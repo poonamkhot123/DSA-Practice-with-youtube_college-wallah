{
  "nbformat": 4,
  "nbformat_minor": 0,
  "metadata": {
    "colab": {
      "provenance": [],
      "authorship_tag": "ABX9TyNSXZn4T6cv5ct2PiyNCkaM",
      "include_colab_link": true
    },
    "kernelspec": {
      "name": "python3",
      "display_name": "Python 3"
    },
    "language_info": {
      "name": "python"
    }
  },
  "cells": [
    {
      "cell_type": "markdown",
      "metadata": {
        "id": "view-in-github",
        "colab_type": "text"
      },
      "source": [
        "<a href=\"https://colab.research.google.com/github/poonamkhot123/DSA-Practice-with-youtube_college-wallah/blob/main/Lecture_5(Linked_list).ipynb\" target=\"_parent\"><img src=\"https://colab.research.google.com/assets/colab-badge.svg\" alt=\"Open In Colab\"/></a>"
      ]
    },
    {
      "cell_type": "code",
      "execution_count": 1,
      "metadata": {
        "colab": {
          "base_uri": "https://localhost:8080/"
        },
        "id": "krm5j1O934a6",
        "outputId": "560cd6e2-f707-4904-d100-74fc019608d6"
      },
      "outputs": [
        {
          "output_type": "stream",
          "name": "stdout",
          "text": [
            "5\n",
            "3\n",
            "7\n"
          ]
        }
      ],
      "source": [
        "class Node:\n",
        "  def __init__(self,data):\n",
        "    self.data = data\n",
        "    self.next = None\n",
        "\n",
        "a = Node(5)\n",
        "b = Node(3)\n",
        "c = Node(7)\n",
        "\n",
        "a.next = b\n",
        "b.next = c\n",
        "\n",
        "head = a\n",
        "print(head.data)\n",
        "print(head.next.data)\n",
        "print(head.next.next.data)"
      ]
    },
    {
      "cell_type": "code",
      "source": [
        "# Trverse linked list\n",
        "def printLinkedList(head):\n",
        " curr = head\n",
        " while curr !=None:\n",
        "  print(curr.data,end=\" \")\n",
        "  curr = curr.next\n",
        "printLinkedList(head)\n",
        "\n"
      ],
      "metadata": {
        "colab": {
          "base_uri": "https://localhost:8080/"
        },
        "id": "2KH11iHx6C5n",
        "outputId": "53981064-6c87-412b-9b28-a6959f58bd73"
      },
      "execution_count": 2,
      "outputs": [
        {
          "output_type": "stream",
          "name": "stdout",
          "text": [
            "5 3 7 "
          ]
        }
      ]
    },
    {
      "cell_type": "code",
      "source": [
        "# insertion at the begining of the linked list\n",
        "\n",
        "newNode = Node(4)\n",
        "newNode.next = head\n",
        "head = newNode\n",
        "\n",
        "printLinkedList(head)"
      ],
      "metadata": {
        "colab": {
          "base_uri": "https://localhost:8080/"
        },
        "id": "fvjCfc8-7qOY",
        "outputId": "597b2be0-e2a5-45ce-9bba-4ab8b4384f27"
      },
      "execution_count": 3,
      "outputs": [
        {
          "output_type": "stream",
          "name": "stdout",
          "text": [
            "4 5 3 7 "
          ]
        }
      ]
    },
    {
      "cell_type": "code",
      "source": [
        "# insertion at the end\n",
        "\n",
        "newNode = Node(1)\n",
        "\n",
        "curr = head\n",
        "while curr.next != None:\n",
        "  curr = curr.next\n",
        "curr.next = newNode\n",
        "\n",
        "printLinkedList(head)"
      ],
      "metadata": {
        "colab": {
          "base_uri": "https://localhost:8080/"
        },
        "id": "vYbDMYqn7qZi",
        "outputId": "f7278120-dc47-4b11-ca63-bd347ab52fc4"
      },
      "execution_count": 4,
      "outputs": [
        {
          "output_type": "stream",
          "name": "stdout",
          "text": [
            "4 5 3 7 1 "
          ]
        }
      ]
    },
    {
      "cell_type": "code",
      "source": [
        "# Insertion at the kth index.\n",
        "\n",
        "k = 3\n",
        "newNode = Node(6)\n",
        "\n",
        "curr = head\n",
        "for i in range(k-1):\n",
        "  curr = curr.next\n",
        "newNode.next = curr.next\n",
        "curr.next = newNode\n",
        "\n",
        "printLinkedList(head)\n",
        "\n",
        "\n"
      ],
      "metadata": {
        "colab": {
          "base_uri": "https://localhost:8080/"
        },
        "id": "HgMwJC666DEP",
        "outputId": "8d999005-8334-4d2b-f620-01c47cb9b598"
      },
      "execution_count": 5,
      "outputs": [
        {
          "output_type": "stream",
          "name": "stdout",
          "text": [
            "4 5 3 6 7 1 "
          ]
        }
      ]
    },
    {
      "cell_type": "code",
      "source": [
        "# Delete the first Node\n",
        "head = head.next\n",
        "printLinkedList(head)"
      ],
      "metadata": {
        "colab": {
          "base_uri": "https://localhost:8080/"
        },
        "id": "S7R3OYc1BFmJ",
        "outputId": "80071691-6c61-43ec-8c59-2b9d79e6850c"
      },
      "execution_count": 6,
      "outputs": [
        {
          "output_type": "stream",
          "name": "stdout",
          "text": [
            "5 3 6 7 1 "
          ]
        }
      ]
    },
    {
      "cell_type": "code",
      "source": [
        "# delete the last node\n",
        "curr = head\n",
        "while curr.next.next!=None:\n",
        "  curr = curr.next\n",
        "curr.next = None\n",
        "\n",
        "printLinkedList(head)"
      ],
      "metadata": {
        "colab": {
          "base_uri": "https://localhost:8080/"
        },
        "id": "7Mv5PMGYBFwG",
        "outputId": "40e14f2a-bffc-44ba-df93-1bf9b8f45cfc"
      },
      "execution_count": 7,
      "outputs": [
        {
          "output_type": "stream",
          "name": "stdout",
          "text": [
            "5 3 6 7 "
          ]
        }
      ]
    },
    {
      "cell_type": "code",
      "source": [
        "# delete the kth node\n",
        "\n",
        "k = 2\n",
        "curr = head\n",
        "for i in range(k-1):\n",
        "  curr = curr.next\n",
        "\n",
        "curr.next = curr.next.next\n",
        "\n",
        "printLinkedList(head)"
      ],
      "metadata": {
        "colab": {
          "base_uri": "https://localhost:8080/"
        },
        "id": "okTnjblnBsp5",
        "outputId": "e2c5674d-f18a-47b6-f432-f268e20bafd0"
      },
      "execution_count": 8,
      "outputs": [
        {
          "output_type": "stream",
          "name": "stdout",
          "text": [
            "5 3 7 "
          ]
        }
      ]
    },
    {
      "cell_type": "code",
      "source": [
        "# Types of lined list\n",
        "# 1. singly linked list\n",
        "# 2. Doubly linked list\n",
        "# 3. Circular linked list"
      ],
      "metadata": {
        "id": "qEW96miKBswI"
      },
      "execution_count": null,
      "outputs": []
    },
    {
      "cell_type": "code",
      "source": [
        "# Create a Doubly Linked List.\n",
        "class DoublyNode:\n",
        "  def __init__(self,data):\n",
        "    self.data = data\n",
        "    self.next = None\n",
        "    self.prev = None\n",
        "\n",
        "a = DoublyNode(5)\n",
        "b = DoublyNode(3)\n",
        "c = DoublyNode(7)\n",
        "\n",
        "a.next = b\n",
        "b.prev = a\n",
        "b.next = c\n",
        "\n",
        "head = a\n",
        "\n",
        "print(head.data)\n",
        "print(head.next.data)\n",
        "print(head.next.next.data)\n"
      ],
      "metadata": {
        "colab": {
          "base_uri": "https://localhost:8080/"
        },
        "id": "TkHku5JdBs0B",
        "outputId": "5e9999f2-6e96-4484-d1c2-4fb34ea76f68"
      },
      "execution_count": 9,
      "outputs": [
        {
          "output_type": "stream",
          "name": "stdout",
          "text": [
            "5\n",
            "3\n",
            "7\n"
          ]
        }
      ]
    },
    {
      "cell_type": "code",
      "source": [
        "# Create a circular linked list.\n",
        "class Node:\n",
        "  def __init__(self,data):\n",
        "    self.data = data\n",
        "    self.next = None\n",
        "\n",
        "a = Node(5)\n",
        "b = Node(3)\n",
        "c = Node(7)\n",
        "\n",
        "a.next = b\n",
        "b.next = c\n",
        "c.next = a\n",
        "\n",
        "head = a\n",
        "\n",
        "print(head.data)\n",
        "print(head.next.data)\n",
        "print(head.next.next.data)\n",
        "\n",
        "curr = head   # because it it circular linked list it does not have None pointer.\n",
        "while True:\n",
        "  print(curr.data,end= \" \")\n",
        "  curr = curr.next\n",
        "  if curr==head:\n",
        "    break"
      ],
      "metadata": {
        "colab": {
          "base_uri": "https://localhost:8080/"
        },
        "id": "-tEbbARTBs8m",
        "outputId": "dd1c7483-16ca-443c-be21-9183dadad982"
      },
      "execution_count": 10,
      "outputs": [
        {
          "output_type": "stream",
          "name": "stdout",
          "text": [
            "5\n",
            "3\n",
            "7\n",
            "5 3 7 "
          ]
        }
      ]
    },
    {
      "cell_type": "code",
      "source": [
        "# middle of the linked list.\n",
        "class Node: # Define Node class if not already defined in a previous cell\n",
        "  def __init__(self,data):\n",
        "    self.data = data\n",
        "    self.next = None\n",
        "\n",
        "class Solution:\n",
        "  def middleNode(self,head):\n",
        "    curr = head\n",
        "\n",
        "    l = 0\n",
        "    while curr!=None:\n",
        "      curr = curr.next\n",
        "      l+=1\n",
        "\n",
        "    curr = head\n",
        "    for i in range(l//2):\n",
        "      curr = curr.next\n",
        "    return curr\n",
        "\n"
      ],
      "metadata": {
        "id": "cB7GyxLGBF59"
      },
      "execution_count": 18,
      "outputs": []
    },
    {
      "cell_type": "code",
      "source": [
        "# by using fast and slow pointer.\n",
        "def middleNode(self,head):\n",
        "  slow = head\n",
        "  fast = head\n",
        "\n",
        "  while fast !=None and fast.next!=None:\n",
        "    slow = slow.next\n",
        "    fast = fast.next.next\n",
        "  return slow\n",
        "\n",
        "  # Time Complexity = O(n)"
      ],
      "metadata": {
        "id": "IMi0_8h58SKC"
      },
      "execution_count": 20,
      "outputs": []
    },
    {
      "cell_type": "code",
      "source": [
        "# 237. Delete Node in Linked List.\n",
        "def deleteNode(self,node):\n",
        "  node.val = node.next.val\n",
        "  node.next = node.next.next"
      ],
      "metadata": {
        "id": "ffNxfZkl8SS9"
      },
      "execution_count": 21,
      "outputs": []
    },
    {
      "cell_type": "code",
      "source": [
        "# Remove Nth Node from End of List.\n",
        "def removeNthFromEnd(self, head, n: int):\n",
        "    p1 = head\n",
        "    p2 = head\n",
        "\n",
        "    # Move p2 n steps ahead\n",
        "    for i in range(n):\n",
        "        p2 = p2.next\n",
        "\n",
        "    # If p2 is None, remove the head\n",
        "    if p2 == None:\n",
        "        head = head.next\n",
        "        return head\n",
        "\n",
        "    # Move both pointers until p2 reaches the end\n",
        "    while p2.next != None:\n",
        "        p2 = p2.next\n",
        "        p1 = p1.next\n",
        "\n",
        "    # Remove the nth node from end\n",
        "    p1.next = p1.next.next\n",
        "    return head\n",
        "\n",
        "# Time Complexity = O(n)"
      ],
      "metadata": {
        "id": "dxbfEHdd8SYc"
      },
      "execution_count": 27,
      "outputs": []
    },
    {
      "cell_type": "code",
      "source": [
        "# 83.Remove Duplicates from sorted array.\n",
        "def deleteDuplicates(self,head):\n",
        "  # corner cases\n",
        "  if head==None or head.next==None:\n",
        "    return head\n",
        "\n",
        "  curr = head\n",
        "  while curr!=None:\n",
        "    # duplicate\n",
        "    if curr.next.val == curr.val:\n",
        "      curr.next = curr.next.next\n",
        "    else:\n",
        "      curr = curr.next\n",
        "  return head\n"
      ],
      "metadata": {
        "id": "cJPtQ8qEDXNv"
      },
      "execution_count": 28,
      "outputs": []
    },
    {
      "cell_type": "code",
      "source": [
        "# 206.Reverse Linked list.\n",
        "# we did not reverse the values we reverse the pointers.\n",
        "def reverseList(self,head):\n",
        "  curr = head\n",
        "  prev = None\n",
        "  nxt = None\n",
        "\n",
        "  while curr!=None:\n",
        "    nxt = curr.next\n",
        "    curr.next = prev\n",
        "    prev = curr\n",
        "    curr = nxt\n",
        "  return prev\n"
      ],
      "metadata": {
        "id": "hoGTM5wyDXXe"
      },
      "execution_count": 29,
      "outputs": []
    },
    {
      "cell_type": "code",
      "source": [
        "# 234 Palindrome linkedlist\n",
        "# Definition for singly-linked list.\n",
        "class ListNode:\n",
        "    def __init__(self, val=0, next=None):\n",
        "        self.val = val\n",
        "        self.next = next\n",
        "\n",
        "class Solution:\n",
        "    def isPalindrome(self, head: ListNode) -> bool:\n",
        "        # Step 1: Copy linked list values into a list\n",
        "        values = []\n",
        "        curr = head\n",
        "        while curr:\n",
        "            values.append(curr.val)\n",
        "            curr = curr.next\n",
        "\n",
        "        # Step 2: Check if list is same as its reverse\n",
        "        return values == values[::-1]\n"
      ],
      "metadata": {
        "id": "GJmzu3KXK-mt"
      },
      "execution_count": 30,
      "outputs": []
    },
    {
      "cell_type": "code",
      "source": [
        "# 61. Rotate list\n",
        "def rotateRight(self,head,k):\n",
        "  if head==None or head.next==None:\n",
        "    return head\n",
        "\n",
        "  l = 0\n",
        "  last = head\n",
        "  while last.next !=None:\n",
        "    last = last.next\n",
        "    l+=1\n",
        "  l+=1\n",
        "\n",
        "  k = k % l\n",
        "  if k ==0:\n",
        "    return head\n",
        "\n",
        "  curr = head\n",
        "  for i in range(l-k-1):\n",
        "    curr = curr.next\n",
        "\n",
        "  last.next = head\n",
        "  head = curr.next\n",
        "  curr.next = None\n",
        "\n",
        "  return head\n",
        "\n",
        "\n"
      ],
      "metadata": {
        "id": "qGslqsgcDXaT"
      },
      "execution_count": 31,
      "outputs": []
    },
    {
      "cell_type": "code",
      "source": [
        "# 160.intersection of two linked list.\n",
        "def getIntersectionNode(self,headA,headB):\n",
        "  p1 = headA\n",
        "  p2 = headB\n",
        "\n",
        "  c = 0\n",
        "\n",
        "  while True:\n",
        "    if p1==p2:\n",
        "      return p1\n",
        "    p1 = p1.next\n",
        "    p2 = p2.next\n",
        "\n",
        "    if p2 ==None:\n",
        "      c+=1\n",
        "      p2=headA\n",
        "    if p1 ==None:\n",
        "      p1 = headB\n",
        "\n",
        "    if c >1:\n",
        "      return None"
      ],
      "metadata": {
        "id": "Ha7rwrS9DXgL"
      },
      "execution_count": 32,
      "outputs": []
    },
    {
      "cell_type": "code",
      "source": [
        "# add two numbers.\n",
        "def addTwoNumbers(self,head1,head2):\n",
        "  curr1 = head1\n",
        "  curr2 = head2\n",
        "\n",
        "  ans = ListNode(-1)\n",
        "  c = 0\n",
        "  curr3 = ans\n",
        "\n",
        "  while curr1 !=None or curr2!= None:\n",
        "    total = c\n",
        "    if curr1!=None:\n",
        "      total +=curr1.val\n",
        "      curr1 = curr1.next\n",
        "    if curr2!=None:\n",
        "      total +=curr2.val\n",
        "      curr2=curr2.next\n",
        "\n",
        "    if total >9:\n",
        "      c=1\n",
        "      total-=10\n",
        "    newNode = ListNode(total)\n",
        "    curr3.next = newNode\n",
        "    curr3 = curr3.next\n",
        "\n",
        "  if c > 0:\n",
        "    newNode = Node(c)\n",
        "    curr3.next = newNode\n",
        "  return ans.next"
      ],
      "metadata": {
        "id": "88AWHCJvWpZp"
      },
      "execution_count": 34,
      "outputs": []
    },
    {
      "cell_type": "code",
      "source": [
        "# 141.linked list cycle\n",
        "def hasCycle(self,head):\n",
        "  slow = head\n",
        "  fast = head\n",
        "\n",
        "  while fast !=None and fast.next != None:\n",
        "    slow = slow.next\n",
        "    fast = fast.next.next\n",
        "\n",
        "    if slow==fast:\n",
        "      return True\n",
        "\n",
        "  return False"
      ],
      "metadata": {
        "id": "aK7aPEV3Wphy"
      },
      "execution_count": 35,
      "outputs": []
    },
    {
      "cell_type": "code",
      "source": [
        "# linked list cycle\n",
        "def detectCycle(self,head):\n",
        "  slow = head\n",
        "  fast = head\n",
        "\n",
        "  hasCycle = False\n",
        "\n",
        "  while fast != None and fast.next!=None:\n",
        "    slow = slow.next\n",
        "    fast = fast.next.next\n",
        "\n",
        "    if slow ==fast:\n",
        "      hasCycle = True\n",
        "      break\n",
        "\n",
        "    if not hasCycle:\n",
        "      return None\n",
        "\n",
        "    l = 0\n",
        "    while slow.next !=fast:\n",
        "      slow = slow.next\n",
        "      l+=1\n",
        "    l+=1\n",
        "    slow  = slow.next\n",
        "\n",
        "    slow = head\n",
        "    fast = head\n",
        "\n",
        "    while slow != fast:\n",
        "      slow = slow.next\n",
        "      fast = fast.next\n",
        "\n",
        "    return slow\n",
        ""
      ],
      "metadata": {
        "id": "6q_SKb68gfDM"
      },
      "execution_count": 36,
      "outputs": []
    }
  ]
}