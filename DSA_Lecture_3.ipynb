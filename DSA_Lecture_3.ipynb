{
  "cells": [
    {
      "cell_type": "markdown",
      "metadata": {
        "id": "view-in-github",
        "colab_type": "text"
      },
      "source": [
        "<a href=\"https://colab.research.google.com/github/poonamkhot123/DSA-Practice-with-youtube_college-wallah/blob/main/DSA_Lecture_3.ipynb\" target=\"_parent\"><img src=\"https://colab.research.google.com/assets/colab-badge.svg\" alt=\"Open In Colab\"/></a>"
      ]
    },
    {
      "cell_type": "markdown",
      "metadata": {
        "id": "9XqJl2nD_cGC"
      },
      "source": [
        "# LIST TUPLE AND STRING"
      ]
    },
    {
      "cell_type": "code",
      "execution_count": null,
      "metadata": {
        "colab": {
          "base_uri": "https://localhost:8080/"
        },
        "id": "sXNEZUZW_kkJ",
        "outputId": "7ef94ed5-041b-4ee9-9d47-62ca9553910e"
      },
      "outputs": [
        {
          "name": "stdout",
          "output_type": "stream",
          "text": [
            "['aman', 'ravi', 'rahul', 'yash']\n"
          ]
        }
      ],
      "source": [
        "# list\n",
        "names = [\"aman\",\"ravi\",\"rahul\",\"yash\"]\n",
        "print(names)"
      ]
    },
    {
      "cell_type": "code",
      "execution_count": null,
      "metadata": {
        "colab": {
          "base_uri": "https://localhost:8080/"
        },
        "id": "fS_k5HxQBv2u",
        "outputId": "3e5f8149-3b6d-4c32-c598-ac5057c5f843"
      },
      "outputs": [
        {
          "name": "stdout",
          "output_type": "stream",
          "text": [
            "[5, 'hello', 34, 35, True]\n"
          ]
        }
      ],
      "source": [
        "list1 =[5,\"hello\",34,35,True]\n",
        "print(list1)"
      ]
    },
    {
      "cell_type": "code",
      "execution_count": null,
      "metadata": {
        "colab": {
          "base_uri": "https://localhost:8080/"
        },
        "id": "LH4BBxoeCCIx",
        "outputId": "69c9185d-d43e-4284-b1d9-a20868f4986a"
      },
      "outputs": [
        {
          "name": "stdout",
          "output_type": "stream",
          "text": [
            "[4, 2, 5, 6, 7, 8, 4]\n"
          ]
        }
      ],
      "source": [
        "list1 =[4,2,5,6,7,8]\n",
        "list1.append(4)\n",
        "print(list1)"
      ]
    },
    {
      "cell_type": "code",
      "execution_count": null,
      "metadata": {
        "colab": {
          "base_uri": "https://localhost:8080/"
        },
        "id": "zBVliGj_XqQQ",
        "outputId": "8119f9d1-666d-47bb-cfc3-457745d61f7c"
      },
      "outputs": [
        {
          "name": "stdout",
          "output_type": "stream",
          "text": [
            "[4, 5, 6, 7, 3, 4, 1, 2, 3]\n"
          ]
        }
      ],
      "source": [
        "list1=[4,5,6,7,3,4]\n",
        "# list1.append(2)\n",
        "list1.extend([1,2,3])\n",
        "print(list1)"
      ]
    },
    {
      "cell_type": "code",
      "execution_count": null,
      "metadata": {
        "colab": {
          "base_uri": "https://localhost:8080/"
        },
        "id": "flPSZEJqBuh1",
        "outputId": "33b89c9c-b95a-44c1-f286-513b623531b2"
      },
      "outputs": [
        {
          "name": "stdout",
          "output_type": "stream",
          "text": [
            "[32, 45, 5, 100, 65, 67]\n"
          ]
        }
      ],
      "source": [
        "#insert = to insert any element at specific position and also given the specific number.\n",
        "list1=[32,45,5,65,67]\n",
        "list1.insert(3,100)\n",
        "print(list1)"
      ]
    },
    {
      "cell_type": "code",
      "execution_count": null,
      "metadata": {
        "colab": {
          "base_uri": "https://localhost:8080/"
        },
        "id": "2TIA8y3jCpq-",
        "outputId": "5797c48a-a5a9-4ccb-a396-f17955b5c23c"
      },
      "outputs": [
        {
          "name": "stdout",
          "output_type": "stream",
          "text": [
            "[32, 6, 2, 35, 12]\n"
          ]
        }
      ],
      "source": [
        "#remove= it will remove the specific element.\n",
        "list1=[32,6,2,43,35,12]\n",
        "list1.remove(43)\n",
        "print(list1)"
      ]
    },
    {
      "cell_type": "code",
      "execution_count": null,
      "metadata": {
        "colab": {
          "base_uri": "https://localhost:8080/"
        },
        "id": "eNTITA8xDEQu",
        "outputId": "d4f3fc39-aff7-4f10-ae7e-2340336a60ab"
      },
      "outputs": [
        {
          "name": "stdout",
          "output_type": "stream",
          "text": [
            "[34, 45, 67, 76]\n"
          ]
        }
      ],
      "source": [
        "#pop= it will pop the specific index value.\n",
        "list1=[34,45,56,67,76]\n",
        "list1.pop(2)\n",
        "print(list1)"
      ]
    },
    {
      "cell_type": "code",
      "execution_count": null,
      "metadata": {
        "colab": {
          "base_uri": "https://localhost:8080/"
        },
        "id": "tFMdePWpDd2T",
        "outputId": "707c9037-31d2-4cea-c874-6c4c25b1c2ef"
      },
      "outputs": [
        {
          "name": "stdout",
          "output_type": "stream",
          "text": [
            "[]\n"
          ]
        }
      ],
      "source": [
        "#clear()= it uses to clear the all the list.\n",
        "list1=[56,56,67,78]\n",
        "list1.clear()\n",
        "print(list1)"
      ]
    },
    {
      "cell_type": "code",
      "execution_count": null,
      "metadata": {
        "colab": {
          "base_uri": "https://localhost:8080/"
        },
        "id": "dgG6r-3RD2BK",
        "outputId": "1d81e8a3-fb10-4023-f1d0-515d89486a3d"
      },
      "outputs": [
        {
          "name": "stdout",
          "output_type": "stream",
          "text": [
            "2\n"
          ]
        }
      ],
      "source": [
        "#min= to find the minimum element\n",
        "list1 = [32,6,2,42,35,12]\n",
        "print(min(list1))"
      ]
    },
    {
      "cell_type": "code",
      "execution_count": null,
      "metadata": {
        "colab": {
          "base_uri": "https://localhost:8080/"
        },
        "id": "PIyVWMeiECEl",
        "outputId": "5a8f64c3-2da7-4b41-8954-d10bf1ed026e"
      },
      "outputs": [
        {
          "name": "stdout",
          "output_type": "stream",
          "text": [
            "2\n"
          ]
        }
      ],
      "source": [
        "#max= to find the maximum of the element\n",
        "list2 = [32,6,2,42,35,12]\n",
        "print(min(list2))"
      ]
    },
    {
      "cell_type": "code",
      "execution_count": null,
      "metadata": {
        "colab": {
          "base_uri": "https://localhost:8080/"
        },
        "id": "DU1PB6MHEQGG",
        "outputId": "e09e8fca-fe76-4e88-fa1e-68555d55dbdb"
      },
      "outputs": [
        {
          "name": "stdout",
          "output_type": "stream",
          "text": [
            "2\n",
            "4\n"
          ]
        }
      ],
      "source": [
        "#count= to print how many times that number occurs in the list\n",
        "list1=[34,54,56,34,54,2,4,7,34,34]\n",
        "print(list1.count(54))\n",
        "print(list1.count(34))"
      ]
    },
    {
      "cell_type": "code",
      "execution_count": null,
      "metadata": {
        "colab": {
          "base_uri": "https://localhost:8080/"
        },
        "id": "fMhVIQ27E6Jx",
        "outputId": "e00f6e0b-72b6-4315-a35f-b091be6d9919"
      },
      "outputs": [
        {
          "name": "stdout",
          "output_type": "stream",
          "text": [
            "[1, 3, 4, 4, 5, 5, 6, 6, 7, 72]\n"
          ]
        }
      ],
      "source": [
        "#sort = it will be sort the list in the incresing order.\n",
        "list1 = [4,5,6,7,1,3,5,6,72,4]\n",
        "list1.sort()\n",
        "print(list1)"
      ]
    },
    {
      "cell_type": "code",
      "execution_count": null,
      "metadata": {
        "colab": {
          "base_uri": "https://localhost:8080/"
        },
        "id": "EdtCsPrXFfTR",
        "outputId": "adaae904-2ef5-4a6f-efe8-dad93f2be936"
      },
      "outputs": [
        {
          "name": "stdout",
          "output_type": "stream",
          "text": [
            "[56, 2, 34, 8, 7, 6, 5, 4]\n"
          ]
        }
      ],
      "source": [
        "#reverse= it will be the reverse the entire list.\n",
        "list1 = [4,5,6,7,8,34,2,56]\n",
        "list1.reverse()\n",
        "print(list1)"
      ]
    },
    {
      "cell_type": "code",
      "execution_count": null,
      "metadata": {
        "colab": {
          "base_uri": "https://localhost:8080/"
        },
        "id": "PKYFHzOqF4Xx",
        "outputId": "5ca8be79-701a-4ff8-9a5f-85bfd3d8d7bc"
      },
      "outputs": [
        {
          "name": "stdout",
          "output_type": "stream",
          "text": [
            "1\n"
          ]
        }
      ],
      "source": [
        "#index= it will return the particular index of any element.\n",
        "list1=[34,45,6,72,67,45]\n",
        "print(list1.index(45))"
      ]
    },
    {
      "cell_type": "code",
      "execution_count": null,
      "metadata": {
        "colab": {
          "base_uri": "https://localhost:8080/"
        },
        "id": "2YJ1UrbwGpdj",
        "outputId": "b6d937b7-e77e-4819-c827-2c7cd333b069"
      },
      "outputs": [
        {
          "name": "stdout",
          "output_type": "stream",
          "text": [
            "[34, 45, 5, 6, 3, 56, 67]\n"
          ]
        }
      ],
      "source": [
        "#copy= it will copy the whole list\n",
        "list1= [34,45,5,6,3,56,67]\n",
        "print(list1.copy())"
      ]
    },
    {
      "cell_type": "code",
      "execution_count": null,
      "metadata": {
        "colab": {
          "base_uri": "https://localhost:8080/"
        },
        "id": "qoluK0g4IltE",
        "outputId": "deb2efee-4755-4aca-9847-db41a19091c7"
      },
      "outputs": [
        {
          "name": "stdout",
          "output_type": "stream",
          "text": [
            "[56, 7, 87, 34]\n",
            "[56, 34]\n"
          ]
        }
      ],
      "source": [
        "#slicing= it will be slice the list\n",
        "list= [3,4,56,7,87,34,98,23,56]\n",
        "print(list[2:6])\n",
        "print(list[2:8:3])"
      ]
    },
    {
      "cell_type": "markdown",
      "metadata": {
        "id": "FtIIQnLYJXDR"
      },
      "source": [
        "# **TUPLE** :\n",
        "A tuple is a collection similar to a python list.the primary difference is that we cannot modify a tuple once it is created.\n",
        "\n",
        "\n",
        "*   **oderded** - the maintain the order of elements.\n",
        "*   **immutable** - they cannot be changed after creation.\n",
        "*   **allow duplicates** - they can contain duplicate values.\n",
        "\n",
        "\n",
        "\n",
        "\n"
      ]
    },
    {
      "cell_type": "code",
      "execution_count": null,
      "metadata": {
        "colab": {
          "base_uri": "https://localhost:8080/"
        },
        "id": "UOwocvDXKD7Y",
        "outputId": "88b951cf-cf26-4902-9ca1-2ce0e4146fbd"
      },
      "outputs": [
        {
          "output_type": "stream",
          "name": "stdout",
          "text": [
            "('hello', 123, 23.232, True, 324.423)\n",
            "True\n",
            "hello\n",
            "5\n",
            "<class 'tuple'>\n"
          ]
        }
      ],
      "source": [
        "tuple1 = (\"hello\",123,23.232,True,324.423)\n",
        "print(tuple1)\n",
        "print(tuple1[3])\n",
        "print(tuple1[-5])\n",
        "print(len(tuple1))\n",
        "print(type(tuple1))"
      ]
    },
    {
      "cell_type": "code",
      "execution_count": null,
      "metadata": {
        "id": "SL90QJ0rJnnY"
      },
      "outputs": [],
      "source": [
        "# operations cannot do in the tuple these are:\n",
        "# append()\n",
        "# extend()\n",
        "# insert()\n",
        "# remove()\n",
        "# pop()\n",
        "# sort()\n",
        "# reverse()"
      ]
    },
    {
      "cell_type": "code",
      "execution_count": null,
      "metadata": {
        "colab": {
          "base_uri": "https://localhost:8080/"
        },
        "id": "Y4X50TzDLjV6",
        "outputId": "41afafd7-978d-491e-cae2-94b66877eec6"
      },
      "outputs": [
        {
          "output_type": "stream",
          "name": "stdout",
          "text": [
            "(456, 312)\n",
            "3\n",
            "2\n"
          ]
        }
      ],
      "source": [
        "tuple1 = (3,4,456,312,234,456,42,23,456)\n",
        "print(tuple1[2:4])\n",
        "print(tuple1.count(456))\n",
        "print(tuple1.index(456))"
      ]
    },
    {
      "cell_type": "code",
      "execution_count": null,
      "metadata": {
        "colab": {
          "base_uri": "https://localhost:8080/"
        },
        "id": "ATuzcln2MQBh",
        "outputId": "77e5adef-07f4-467f-d79a-f8167433fcb0"
      },
      "outputs": [
        {
          "output_type": "stream",
          "name": "stdout",
          "text": [
            "[3, 4, 456, 312, 234, 456, 42, 23]\n"
          ]
        }
      ],
      "source": [
        "# type casting = we can convert the tuple into the list.\n",
        "tuple1 = (3,4,456,312,234,456,42,23)\n",
        "new_list1 = list(tuple1)\n",
        "print(new_list1)"
      ]
    },
    {
      "cell_type": "markdown",
      "metadata": {
        "id": "vFCyrUVSM_Pz"
      },
      "source": [
        "# **STRINGS IN PYTHON**\n",
        "in python,a string is a sequence ofcharacters. for example,\"hello\" is a string containing a sequence of characters 'h','e','l','l','o'.\n",
        "\n",
        "* we use single quotes or double quotes to represent string in python.\n",
        "\n"
      ]
    },
    {
      "cell_type": "code",
      "execution_count": null,
      "metadata": {
        "colab": {
          "base_uri": "https://localhost:8080/"
        },
        "id": "WAE9FvUKOKjp",
        "outputId": "f4afc240-6b5e-4b59-f947-c26075a5542a"
      },
      "outputs": [
        {
          "name": "stdout",
          "output_type": "stream",
          "text": [
            "<class 'str'>\n"
          ]
        }
      ],
      "source": [
        "name = \"poonam\"\n",
        "grade = \"A\"\n",
        "introduction = \"\"\"my name is poonam\n",
        "i live in pune\"\"\"\n",
        "print(type(name))"
      ]
    },
    {
      "cell_type": "code",
      "execution_count": null,
      "metadata": {
        "colab": {
          "base_uri": "https://localhost:8080/"
        },
        "id": "aT0LqJlwOiM4",
        "outputId": "accd2e82-fb6c-4b63-db09-61e3890afce8"
      },
      "outputs": [
        {
          "output_type": "stream",
          "name": "stdout",
          "text": [
            "22\n",
            "physics wallah skills,in pune\n",
            "i\n",
            "n\n",
            "Physics wallah skills,in pune\n",
            "physics wallah skills,in pune\n",
            "PHYSICS WALLAH SKILLS,IN PUNE\n"
          ]
        }
      ],
      "source": [
        "name = \"physics wallah skills,\"\n",
        "print(len(name))\n",
        "name += \"in pune\"\n",
        "print(name)\n",
        "print(name[4])\n",
        "print(name[-2])\n",
        "\n",
        "print(name.capitalize())\n",
        "print(name.lower())\n",
        "print(name.upper())\n"
      ]
    },
    {
      "cell_type": "code",
      "execution_count": null,
      "metadata": {
        "colab": {
          "base_uri": "https://localhost:8080/"
        },
        "id": "Xnthx1SuQMOZ",
        "outputId": "d8af0f32-52f8-4c18-a305-36d58abbdcbd"
      },
      "outputs": [
        {
          "output_type": "stream",
          "name": "stdout",
          "text": [
            "my name ys poonam.\n"
          ]
        }
      ],
      "source": [
        "# replace = it uses to replace any value or character.\n",
        "name = \"my name is poonam.\"\n",
        "print(name.replace(\"i\",\"y\"))\n"
      ]
    },
    {
      "cell_type": "code",
      "execution_count": null,
      "metadata": {
        "colab": {
          "base_uri": "https://localhost:8080/"
        },
        "id": "sOxdcENxQb1I",
        "outputId": "0c4c276b-54b0-43c9-fbe9-0e5f49cb6964"
      },
      "outputs": [
        {
          "name": "stdout",
          "output_type": "stream",
          "text": [
            "6\n"
          ]
        }
      ],
      "source": [
        "#count = we can count the any character , how many times occurs.\n",
        "name = \"my name is poonam . and i wantwed to know what are you doing.\"\n",
        "print(name.count(\"a\"))"
      ]
    },
    {
      "cell_type": "code",
      "execution_count": null,
      "metadata": {
        "colab": {
          "base_uri": "https://localhost:8080/"
        },
        "id": "8aJJ5hUZQ3Js",
        "outputId": "88466a69-b814-4c32-bf53-b2468415e16c"
      },
      "outputs": [
        {
          "name": "stdout",
          "output_type": "stream",
          "text": [
            "my name is poonam ,and i live in barmati\n"
          ]
        }
      ],
      "source": [
        "# if we want to update the original string then do this.\n",
        "name = \"My name is Poonam ,and I live in Barmati\"\n",
        "name = name.lower()\n",
        "print(name)"
      ]
    },
    {
      "cell_type": "code",
      "execution_count": null,
      "metadata": {
        "colab": {
          "base_uri": "https://localhost:8080/"
        },
        "id": "p0z1yIwfRM0a",
        "outputId": "2452a379-a707-4787-9baf-b4f36d59df66"
      },
      "outputs": [
        {
          "output_type": "stream",
          "name": "stdout",
          "text": [
            "hii world\n",
            "True\n",
            "False\n",
            "False\n",
            "True\n",
            "4\n",
            "3\n",
            "['h', 'e', 'l', 'l', 'o', ' ', 'w', 'o', 'r', 'l', 'd']\n"
          ]
        }
      ],
      "source": [
        "# stratswith = it checks the string started with any specific character.\n",
        "s = \"hello world\"\n",
        "print(s.replace(\"hello\",\"hii\"))\n",
        "print(s.startswith(\"hello\"))\n",
        "print(s.startswith(\"hii\"))\n",
        "print(s.endswith(\"hello\"))\n",
        "print(s.endswith(\"world\"))\n",
        "print(s.index(\"o\"))\n",
        "print(s.index(\"lo w\"))\n",
        "list1 = list(s)\n",
        "print(list1)"
      ]
    },
    {
      "cell_type": "code",
      "execution_count": null,
      "metadata": {
        "colab": {
          "base_uri": "https://localhost:8080/"
        },
        "id": "l2dL_xNqTsWX",
        "outputId": "39b948fb-d9f5-4f1d-d12f-234129d9db75"
      },
      "outputs": [
        {
          "output_type": "stream",
          "name": "stdout",
          "text": [
            "      poonam khot   \n"
          ]
        }
      ],
      "source": [
        "#strip = it will reomve the unwanted space from stating and end.\n",
        "s = \"      poonam khot   \"\n",
        "s.strip()\n",
        "print(s)"
      ]
    },
    {
      "cell_type": "code",
      "execution_count": null,
      "metadata": {
        "colab": {
          "base_uri": "https://localhost:8080/"
        },
        "id": "5H42wx_EUJi4",
        "outputId": "50364e45-68c1-4fe6-d8e7-cdb72b9965de"
      },
      "outputs": [
        {
          "output_type": "stream",
          "name": "stdout",
          "text": [
            "pw skills\n"
          ]
        }
      ],
      "source": [
        "# we can remove the specific value from thevsplit function.\n",
        "s = \"--------pw skills----------\"\n",
        "s = s.strip(\"-\")\n",
        "print(s)"
      ]
    },
    {
      "cell_type": "code",
      "execution_count": null,
      "metadata": {
        "colab": {
          "base_uri": "https://localhost:8080/"
        },
        "id": "rWxvRmE1Pioy",
        "outputId": "c7574f35-ec83-42d3-f00d-9564fdb07344"
      },
      "outputs": [
        {
          "output_type": "stream",
          "name": "stdout",
          "text": [
            "['h', 'e', 'l', 'l', 'o', ' ', 'm', 'y', ' ', 'n', 'a', 'm', 'e', ' ', 'i', 's', ' ', 'a', 'b', 'h', 'i', 'n', 'a', 'v']\n",
            "['hello', 'my', 'name', 'is', 'abhinav']\n"
          ]
        }
      ],
      "source": [
        "# split = is is use for slippting the string and it converted into the list.\n",
        "s = \"hello my name is abhinav\"\n",
        "print(list(s))\n",
        "print(s.split(\" \"))"
      ]
    },
    {
      "cell_type": "code",
      "execution_count": null,
      "metadata": {
        "colab": {
          "base_uri": "https://localhost:8080/"
        },
        "id": "fPXYHyHQY6E4",
        "outputId": "8082b19a-bb4d-4ddb-fe45-dec30c435c99"
      },
      "outputs": [
        {
          "name": "stdout",
          "output_type": "stream",
          "text": [
            "poonam\n"
          ]
        }
      ],
      "source": [
        "list1 = ['p','o','o','n','a','m']\n",
        "s=\"\".join(list1)\n",
        "print(s)"
      ]
    },
    {
      "cell_type": "code",
      "execution_count": null,
      "metadata": {
        "colab": {
          "base_uri": "https://localhost:8080/"
        },
        "id": "3BodbVw_ZTN4",
        "outputId": "45a37a72-db9d-49b9-e73c-607e1b52e6d3"
      },
      "outputs": [
        {
          "name": "stdout",
          "output_type": "stream",
          "text": [
            "p*o*o*n*a*m\n"
          ]
        }
      ],
      "source": [
        "list1 = ['p','o','o','n','a','m']\n",
        "s=\"*\".join(list1)\n",
        "print(s)"
      ]
    },
    {
      "cell_type": "code",
      "execution_count": null,
      "metadata": {
        "colab": {
          "base_uri": "https://localhost:8080/"
        },
        "id": "mo6rf-wvaIMF",
        "outputId": "748cc906-27da-4f16-eee8-c2d33b9004e6"
      },
      "outputs": [
        {
          "name": "stdout",
          "output_type": "stream",
          "text": [
            "hellomynameispoonam\n"
          ]
        }
      ],
      "source": [
        "list1 = ['hello','my','name','is','poonam']\n",
        "print(\"\".join(list1))"
      ]
    },
    {
      "cell_type": "code",
      "execution_count": null,
      "metadata": {
        "colab": {
          "base_uri": "https://localhost:8080/"
        },
        "id": "RATGt4soacPD",
        "outputId": "980b0eb2-a2bc-4e8a-b56a-20cf2e01db50"
      },
      "outputs": [
        {
          "name": "stdout",
          "output_type": "stream",
          "text": [
            "hello my name is poonam\n"
          ]
        }
      ],
      "source": [
        "list1 = ['hello','my','name','is','poonam']\n",
        "print(\" \".join(list1))"
      ]
    },
    {
      "cell_type": "code",
      "execution_count": null,
      "metadata": {
        "colab": {
          "base_uri": "https://localhost:8080/"
        },
        "id": "Lm82fknUal8y",
        "outputId": "fcc032ce-a723-424b-e6bd-a153d1207638"
      },
      "outputs": [
        {
          "name": "stdout",
          "output_type": "stream",
          "text": [
            "hello\n",
            "poonam\n"
          ]
        }
      ],
      "source": [
        "# \\n it gives us new line\n",
        "s = \"hello\\npoonam\"\n",
        "print(s)"
      ]
    },
    {
      "cell_type": "code",
      "execution_count": null,
      "metadata": {
        "colab": {
          "base_uri": "https://localhost:8080/"
        },
        "id": "Xt8KgvYZb3D8",
        "outputId": "05fd3365-2e25-4ba3-d06b-5f5fb05bf78d"
      },
      "outputs": [
        {
          "output_type": "stream",
          "name": "stdout",
          "text": [
            "122\n",
            "97\n",
            "112\n",
            "35\n"
          ]
        }
      ],
      "source": [
        "#ord function : it means character have the asci value.means the roll no. of character.\n",
        "print(ord('z'))\n",
        "print(ord('a'))\n",
        "print(ord('p'))\n",
        "print(ord('#'))"
      ]
    },
    {
      "cell_type": "markdown",
      "metadata": {
        "id": "GJ0O9cdgeWHE"
      },
      "source": [
        "**Running Sum of 1d Array**\n",
        "* Given an array.We define a running sum of an array as runningSum[i] = sum(num[0]\n",
        "....num[i]).\n",
        "return the running sum of nums."
      ]
    },
    {
      "cell_type": "code",
      "execution_count": null,
      "metadata": {
        "colab": {
          "base_uri": "https://localhost:8080/"
        },
        "id": "e972d0d5",
        "outputId": "cbd682aa-66ff-40d4-9092-011a0115f7a6"
      },
      "outputs": [
        {
          "name": "stdout",
          "output_type": "stream",
          "text": [
            "[2, 6, 12, 20, 29, 32]\n"
          ]
        }
      ],
      "source": [
        "def running_sum(nums):\n",
        "  n = len(nums)\n",
        "  ans = []\n",
        "  ans.append(nums[0])\n",
        "  for i in range(1,n):  # here started from 1 becuase 0 index aldredy append in ans\n",
        "    x= ans[i-1] + nums[i]  # ans[i-1] means last index + current index\n",
        "    ans.append(x)   # it appends in the ans with variable x.\n",
        "  return ans        # The return statement is now inside the function\n",
        "\n",
        "# Example usage:\n",
        "my_list = [2, 4, 6, 8, 9, 3]\n",
        "result = running_sum(my_list)\n",
        "print(result)"
      ]
    },
    {
      "cell_type": "code",
      "source": [
        "def running_sum(nums):\n",
        "  n = len(nums)\n",
        "  ans = []\n",
        "  ans.append(nums[0])\n",
        "  for i in range(1,n):\n",
        "    x =ans[i-1] + nums[i]\n",
        "    ans.append(x)\n",
        "  return ans\n",
        "\n",
        "my_list = [4,5,6,7,8]\n",
        "result = running_sum(my_list)\n",
        "print(result)"
      ],
      "metadata": {
        "colab": {
          "base_uri": "https://localhost:8080/"
        },
        "id": "HwHEa3vZfPzm",
        "outputId": "80744cc8-c718-471d-d583-42fc8da2d0bd"
      },
      "execution_count": null,
      "outputs": [
        {
          "output_type": "stream",
          "name": "stdout",
          "text": [
            "[4, 9, 15, 22, 30]\n"
          ]
        }
      ]
    },
    {
      "cell_type": "code",
      "source": [
        "def running_sum(nums):\n",
        "  n = len(nums)\n",
        "  ans = []\n",
        "  ans.append(nums[0])\n",
        "  for i in range(1,n):\n",
        "    x = ans[i-1] + nums[i]\n",
        "    ans.append(x)\n",
        "  return ans\n",
        "\n",
        "my_list = [4,5,7,8,9]\n",
        "result = running_sum(my_list)\n",
        "print(result)"
      ],
      "metadata": {
        "colab": {
          "base_uri": "https://localhost:8080/"
        },
        "id": "FU0jN2Ftf9vm",
        "outputId": "b38aedff-b1a1-4c5b-e957-bc77e3355b9d"
      },
      "execution_count": null,
      "outputs": [
        {
          "output_type": "stream",
          "name": "stdout",
          "text": [
            "[4, 9, 16, 24, 33]\n"
          ]
        }
      ]
    },
    {
      "cell_type": "code",
      "source": [
        "def running_sum(nums):\n",
        "  n = len(nums)\n",
        "  ans = []\n",
        "  ans.append(nums[0])\n",
        "  for i in range(1,n):\n",
        "    x = ans[i-1]+nums[i]\n",
        "    ans.append(x)\n",
        "  return ans\n",
        "\n",
        "my_list = [3,4,5,6,7,8]\n",
        "result = running_sum(my_list)\n",
        "print(result)"
      ],
      "metadata": {
        "colab": {
          "base_uri": "https://localhost:8080/"
        },
        "id": "qJjBzMbNgh3l",
        "outputId": "aacd81ef-8ebc-448b-d467-99a660223b4b"
      },
      "execution_count": null,
      "outputs": [
        {
          "output_type": "stream",
          "name": "stdout",
          "text": [
            "[3, 7, 12, 18, 25, 33]\n"
          ]
        }
      ]
    },
    {
      "cell_type": "code",
      "execution_count": null,
      "metadata": {
        "colab": {
          "base_uri": "https://localhost:8080/"
        },
        "id": "nVNFkB-3gjVO",
        "outputId": "2b31807f-1cb9-42c1-c340-9527fb9af145"
      },
      "outputs": [
        {
          "output_type": "stream",
          "name": "stdout",
          "text": [
            "[1, 2, 3, 4, 5, 6, 7, 9]\n"
          ]
        }
      ],
      "source": [
        "# remove duplicates from sorted array\n",
        "# logic:firstly take all unique values at inital level\n",
        "def removeDuplicates(nums):\n",
        "  n = len(nums)\n",
        "  start = 0\n",
        "  for i in range(1,n):\n",
        "    # unique element\n",
        "    if nums[i]!=nums[start]:\n",
        "       start+=1\n",
        "       nums[start] = nums[i]\n",
        "  return start+1\n",
        "\n",
        "# example:\n",
        "my_list =[1,2,2,3,3,4,5,6,7,9,9]\n",
        "result = removeDuplicates(my_list)\n",
        "print(my_list[:result])"
      ]
    },
    {
      "cell_type": "code",
      "source": [
        "def removeDuplicates(nums):\n",
        "  n = len(nums)\n",
        "  start = 0\n",
        "  for i in range(1,n):\n",
        "    #unique element\n",
        "    if nums[i]!=nums[start]:\n",
        "      start+=1\n",
        "      nums[start] = nums[i]\n",
        "  return start+1\n",
        "my_list = [1,2,2,3,3,4,5,6,7,9,9]\n",
        "result = removeDuplicates(my_list)\n",
        "print(my_list[:result])"
      ],
      "metadata": {
        "colab": {
          "base_uri": "https://localhost:8080/"
        },
        "id": "oX0ALgwO8pge",
        "outputId": "859fb831-7c8e-47f2-8f7d-cb7808887d67"
      },
      "execution_count": null,
      "outputs": [
        {
          "output_type": "stream",
          "name": "stdout",
          "text": [
            "[1, 2, 3, 4, 5, 6, 7, 9]\n"
          ]
        }
      ]
    },
    {
      "cell_type": "code",
      "source": [
        "def removeDuplicates(nums):\n",
        "  n = len(nums)\n",
        "  start = 0\n",
        "  for i in range(1,n):\n",
        "    # unique element\n",
        "    if nums[i]!=nums[start]:\n",
        "      start+=1\n",
        "      nums[start]=nums[i]\n",
        "  return start+1\n",
        "my_list = [1,2,2,3,3,4,5,6,7,9,9]\n",
        "result = removeDuplicates(my_list)\n",
        "print(my_list[:result])"
      ],
      "metadata": {
        "colab": {
          "base_uri": "https://localhost:8080/"
        },
        "id": "F9I3U64j9WvT",
        "outputId": "3138c401-d110-4767-f11e-3c6b63b8dd51"
      },
      "execution_count": null,
      "outputs": [
        {
          "output_type": "stream",
          "name": "stdout",
          "text": [
            "[1, 2, 3, 4, 5, 6, 7, 9]\n"
          ]
        }
      ]
    },
    {
      "cell_type": "code",
      "source": [
        "def removeDuplicates(nums):\n",
        "  n = len(nums)\n",
        "  start = 0\n",
        "  for i in range(1,n):\n",
        "    # unique element\n",
        "    if nums[i]!=nums[start]:\n",
        "      start+=1\n",
        "    nums[start]= nums[i]\n",
        "  return start+1\n",
        "my_list = [1,2,2,3,4,5,6,6,7,7,8,8]\n",
        "result = removeDuplicates(my_list)\n",
        "print(my_list[:result])\n"
      ],
      "metadata": {
        "colab": {
          "base_uri": "https://localhost:8080/"
        },
        "id": "mfz6SZq9-KIW",
        "outputId": "ad4ebfaf-5433-49b4-d27a-39654985daf6"
      },
      "execution_count": null,
      "outputs": [
        {
          "output_type": "stream",
          "name": "stdout",
          "text": [
            "[1, 2, 3, 4, 5, 6, 7, 8]\n"
          ]
        }
      ]
    },
    {
      "cell_type": "code",
      "source": [
        "def removeDuplicates(nums):\n",
        "  n = len(nums)\n",
        "  start= 0\n",
        "  for i in range(1,n):\n",
        "    # unique element\n",
        "    if nums[i]!=nums[start]:\n",
        "      start+=1\n",
        "    nums[start]= nums[i]\n",
        "  return start+1\n",
        "my_list = [1,2,2,3,4,5,6,6,7,7,8,8]\n",
        "result = removeDuplicates(my_list)\n",
        "print(my_list[:result])"
      ],
      "metadata": {
        "colab": {
          "base_uri": "https://localhost:8080/"
        },
        "id": "WEyRsSbrA3mp",
        "outputId": "618371a1-16de-41fa-eb8f-cc3a5028406f"
      },
      "execution_count": null,
      "outputs": [
        {
          "output_type": "stream",
          "name": "stdout",
          "text": [
            "[1, 2, 3, 4, 5, 6, 7, 8]\n"
          ]
        }
      ]
    },
    {
      "cell_type": "code",
      "source": [
        "def removeDuplicates(nums):\n",
        "  n = len(nums)\n",
        "  start = 0\n",
        "  for i in range(1,n):\n",
        "    # unique element\n",
        "    if nums[i]!=nums[start]:\n",
        "      start+=1\n",
        "    nums[start]=nums[i]\n",
        "  return start+1\n",
        "\n",
        "my_list = [1,2,2,3,4,5,6,6,6,7,7,8,8]\n",
        "result = removeDuplicates(my_list)\n",
        "print(my_list[:result])"
      ],
      "metadata": {
        "colab": {
          "base_uri": "https://localhost:8080/"
        },
        "id": "0e1q9wgADQPC",
        "outputId": "0569ca8d-9550-452e-ffd3-30c38a3e6104"
      },
      "execution_count": null,
      "outputs": [
        {
          "output_type": "stream",
          "name": "stdout",
          "text": [
            "[1, 2, 3, 4, 5, 6, 7, 8]\n"
          ]
        }
      ]
    },
    {
      "cell_type": "code",
      "source": [
        "def removeDuplicates(nums):\n",
        "  n= len(nums)\n",
        "  start= 0\n",
        "  for i in range(1,n):\n",
        "    # unique element\n",
        "    if nums[i]!=nums[start]:\n",
        "      start+=1\n",
        "    nums[start]=nums[i]\n",
        "  return start+1\n",
        "\n",
        "my_list = [1,2,2,3,4,5,6,6,6,7,7,8,8]\n",
        "result = removeDuplicates(my_list)\n",
        "print(my_list[:result])"
      ],
      "metadata": {
        "colab": {
          "base_uri": "https://localhost:8080/"
        },
        "id": "1NZulco-Eno9",
        "outputId": "09bc5bd2-be3f-42f3-81ee-6ec2584a3828"
      },
      "execution_count": null,
      "outputs": [
        {
          "output_type": "stream",
          "name": "stdout",
          "text": [
            "[1, 2, 3, 4, 5, 6, 7, 8]\n"
          ]
        }
      ]
    },
    {
      "cell_type": "code",
      "execution_count": null,
      "metadata": {
        "colab": {
          "base_uri": "https://localhost:8080/"
        },
        "id": "-tNgQDtrzqQw",
        "outputId": "1783393b-33f2-4717-ec60-6b085f27bb1e"
      },
      "outputs": [
        {
          "output_type": "stream",
          "name": "stdout",
          "text": [
            "[2, 4, 6, 6, 8, 8, 3, 7, 7, 5, 3, 9]\n"
          ]
        }
      ],
      "source": [
        "# Sort Array By Parity\n",
        "# given an integer array nums,move all the even integers at the\n",
        "# beginning of the array followed by all the odd integers.\n",
        "def arrays(nums):\n",
        "  n= len(nums)\n",
        "  start = 0\n",
        "  for i in range(n):\n",
        "    if nums[i]%2==0:\n",
        "      temp=nums[i]\n",
        "      nums[i]=nums[start]\n",
        "      nums[start]=temp\n",
        "      start+=1\n",
        "  return nums\n",
        "\n",
        "my_list=[2,3,3,4,5,6,6,7,7,8,8,9]\n",
        "result = arrays(my_list)\n",
        "print(result)"
      ]
    },
    {
      "cell_type": "code",
      "source": [
        "def arrays(nums):\n",
        "  n = len(nums)\n",
        "  start = 0\n",
        "  for i in range(n):\n",
        "    if nums[i]%2==0:\n",
        "      temp = nums[i]\n",
        "      nums[i]=nums[start]\n",
        "      nums[start] = temp\n",
        "      start+=1\n",
        "  return nums\n",
        "my_list = [3,4,5,6,7,8,9]\n",
        "result = arrays(my_list)\n",
        "print(result)"
      ],
      "metadata": {
        "colab": {
          "base_uri": "https://localhost:8080/"
        },
        "id": "-rqibU7lY5E5",
        "outputId": "b68c7096-a646-411e-9723-bbe5ffcf8dd2"
      },
      "execution_count": null,
      "outputs": [
        {
          "output_type": "stream",
          "name": "stdout",
          "text": [
            "[4, 6, 8, 3, 7, 5, 9]\n"
          ]
        }
      ]
    },
    {
      "cell_type": "code",
      "source": [
        "def arrays(nums):\n",
        "  n = len(nums)\n",
        "  start = 0\n",
        "  for i in range(n):\n",
        "    if nums[i]%2==0:\n",
        "      temp=nums[i]\n",
        "      nums[i]=nums[start]\n",
        "      nums[start]=temp\n",
        "      start+=1\n",
        "  return nums\n",
        "my_list = [2,4,5,6,7,8,9]\n",
        "result = arrays(my_list)\n",
        "print(my_list)"
      ],
      "metadata": {
        "colab": {
          "base_uri": "https://localhost:8080/"
        },
        "id": "AswZj7SWZ9nO",
        "outputId": "ef1be0ed-2f35-4357-cefe-f8aa7bfb8236"
      },
      "execution_count": null,
      "outputs": [
        {
          "output_type": "stream",
          "name": "stdout",
          "text": [
            "[2, 4, 6, 8, 7, 5, 9]\n"
          ]
        }
      ]
    },
    {
      "cell_type": "code",
      "source": [
        "def arrays(nums):\n",
        "  n = len(nums)\n",
        "  start = 0\n",
        "  for i in range(n):\n",
        "    if nums[i]%2==0:\n",
        "      temp=nums[i]\n",
        "      nums[i]=nums[start]\n",
        "      nums[start]=temp\n",
        "      start+=1\n",
        "  return nums\n",
        "my_list = [3,4,5,6,7,8,9]\n",
        "result = arrays(my_list)\n",
        "print(my_list)"
      ],
      "metadata": {
        "colab": {
          "base_uri": "https://localhost:8080/"
        },
        "id": "ytdV9F-GbQb2",
        "outputId": "48503eba-2c19-4e38-f20d-4541e1d9ecd7"
      },
      "execution_count": null,
      "outputs": [
        {
          "output_type": "stream",
          "name": "stdout",
          "text": [
            "[4, 6, 8, 3, 7, 5, 9]\n"
          ]
        }
      ]
    },
    {
      "cell_type": "code",
      "execution_count": null,
      "metadata": {
        "id": "bi0NXi4Q51Cc"
      },
      "outputs": [],
      "source": [
        "# kadanis Algorithm\n",
        "# given we have an array\n",
        "# give me subarray which have maximun sum.\n",
        "\n",
        "def arrays(nums):\n",
        "  curr_sum= 0\n",
        "  max_sum = nums[0]\n",
        "  for i in range(len(nums)):\n",
        "    curr_sum += nums[i]\n",
        "    if curr_sum > max_sum:\n",
        "      max_sum = curr_sum\n",
        "    if curr_sum<0:\n",
        "      curr_sum = 0\n",
        "  return max_sum\n",
        "\n",
        "my_list = [-4,-5,7,8,3,-9,1,5]\n",
        "result = arrays(my_list)\n",
        "print(result)\n"
      ]
    },
    {
      "cell_type": "code",
      "source": [
        "def arrays(nums):\n",
        "  curr_sum = 0\n",
        "  max_sum = nums[0]\n",
        "  for i in range(len(nums)):\n",
        "    curr_sum += nums[i]\n",
        "    if curr_sum > max_sum:\n",
        "      max_sum = curr_sum\n",
        "    if curr_sum <0:\n",
        "      curr_sum = 0\n",
        "  return max_sum\n",
        "my_list = [3,4,5,-6,7,8,9,-1]\n",
        "result = arrays(my_list)\n",
        "print(result)"
      ],
      "metadata": {
        "id": "MtlE_VvqicYM"
      },
      "execution_count": null,
      "outputs": []
    },
    {
      "cell_type": "code",
      "source": [
        "def arrays(nums):\n",
        "  curr_sum = 0\n",
        "  max_sum = nums[0]\n",
        "  for i in range(len(nums)):\n",
        "    curr_sum +=nums[i]\n",
        "    if curr_sum > max_sum:\n",
        "      max_sum = curr_sum\n",
        "    if curr_sum <0:\n",
        "      curr_sum = 0\n",
        "  return max_sum\n",
        "my_list = [2,3,4,5,6,7]\n",
        "result = arrays(my_list)\n",
        "print(result)"
      ],
      "metadata": {
        "id": "lrmUBVqUjHuf"
      },
      "execution_count": null,
      "outputs": []
    },
    {
      "cell_type": "code",
      "source": [
        "# best time to buy sell stock.\n",
        "def maxProfit(prices):\n",
        "  min_price = prices[0]\n",
        "  profit =0\n",
        "  for i in range(1,len(prices)):\n",
        "    curr_profit = prices[i]-min_price\n",
        "    if curr_profit>profit:\n",
        "      profit = curr_profit\n",
        "    min_price = min(min_price,prices[i])\n",
        "  return profit\n",
        "my_list = [7,1,5,3,6,4]\n",
        "result=maxProfit(my_list)\n",
        "print(result)"
      ],
      "metadata": {
        "id": "dvbqQuf2j05g"
      },
      "execution_count": null,
      "outputs": []
    },
    {
      "cell_type": "code",
      "source": [
        "# Richest customer waelth\n",
        "# you are given an m*n integer grid accounts[i]\n",
        "# [j] is the amount of money the ith customer has in the jth bank.\n",
        "# Return the waelth that the richest customer has.\n",
        "# A customers wealth is the amount of money they have in all their bank accounts,\n",
        "# the richest customer is the customer that has the maximum wealth.\n",
        "def maximumWealth(accounts):\n",
        "  ans=0\n",
        "  for account in accounts:\n",
        "    ans = max(ans,sum(account))\n",
        "  return ans\n",
        "my_list = [[2,3,4],[5,6,7],[8]]\n",
        "result = maximumWealth(my_list)\n",
        "print(result)"
      ],
      "metadata": {
        "id": "-zFdI21yq25_",
        "colab": {
          "base_uri": "https://localhost:8080/"
        },
        "outputId": "7118cae8-1903-47c3-f9a7-64ee89c1714a"
      },
      "execution_count": null,
      "outputs": [
        {
          "output_type": "stream",
          "name": "stdout",
          "text": [
            "18\n"
          ]
        }
      ]
    },
    {
      "cell_type": "code",
      "execution_count": 1,
      "metadata": {
        "id": "_W1KjKAkE6Rb"
      },
      "outputs": [],
      "source": [
        "# add the matrix in spiral way.\n",
        "def spiral_matrix(matrix):\n",
        "  n = len(matrix)        # length of row\n",
        "  m = len(matrix[0])     # length of column\n",
        "\n",
        "  total = n * m\n",
        "  ans = []\n",
        "  c =0\n",
        "\n",
        "  colstart = 0\n",
        "  rowstart = 0\n",
        "  colend = n-1\n",
        "  rowend = n-1\n",
        "\n",
        "  while c<total:\n",
        "    # rowstart,colstart->colend\n",
        "    for i in range(colstart , colend+1):\n",
        "      ans.append(matrix[rowstart][i])\n",
        "      c+=1\n",
        "    rowstart+=1\n",
        "\n",
        "    if c==total:\n",
        "      break\n",
        "\n",
        "     # colend,rowstart->rowend\n",
        "    for i in range(rowstart,rowend+1):\n",
        "        ans.append(matrix[i][colend])\n",
        "        c+=1\n",
        "    colend -=1\n",
        "\n",
        "    if c== total:\n",
        "      break\n",
        "\n",
        "    # rowend,colend->colstart\n",
        "    for  i in range(colend,colstart-1,-1):\n",
        "      ans.append(matrix[rowend][i])\n",
        "      c+=1\n",
        "    rowend-=1\n",
        "\n",
        "    if c==total:\n",
        "      break\n",
        "\n",
        "    # colstart,rowend->rowstart\n",
        "    for i in range(rowend,rowstart-1,-1):\n",
        "      ans.append(matrix[rowend][i])\n",
        "      c+=1\n",
        "    colstart+=1\n",
        "\n",
        "  return ans\n",
        "\n"
      ]
    },
    {
      "cell_type": "code",
      "source": [
        "# Defanging an IP address.\n",
        "# given a valid IP address,return a defanged version of that IP  adresss\n",
        "# A defanged address replaces every period \".\" with \"[.]\"\n",
        "# eg:\n",
        "# input:address=\"1.1.1.1\"\n",
        "# output:\"1[.]1[.]1[.]1\"\n",
        "def ipaddress(address):\n",
        "  ans = \"\"\n",
        "  for i in address:\n",
        "    if i != \".\":\n",
        "      ans+=i\n",
        "    else:\n",
        "      ans+=\"[.]\"\n",
        "  return ans\n",
        "\n",
        "string=\"1.1.1.1\"\n",
        "result = ipaddress(string)\n",
        "print(result)"
      ],
      "metadata": {
        "colab": {
          "base_uri": "https://localhost:8080/"
        },
        "id": "pJn2SFD1SF5Z",
        "outputId": "6500d82a-3be0-48ed-b130-fc100a8e65c2"
      },
      "execution_count": 3,
      "outputs": [
        {
          "output_type": "stream",
          "name": "stdout",
          "text": [
            "1[.]1[.]1[.]1\n"
          ]
        }
      ]
    },
    {
      "cell_type": "code",
      "source": [
        "def ipaddress(address):\n",
        "  ans = \" \"\n",
        "  for i in address:\n",
        "    if i != \".\":\n",
        "      ans+=i\n",
        "    else:\n",
        "      ans+=\"[.]\"\n",
        "  return ans\n",
        "string = \"1.1.1.1\"\n",
        "result = ipaddress(string)\n",
        "print(result)\n"
      ],
      "metadata": {
        "colab": {
          "base_uri": "https://localhost:8080/"
        },
        "id": "sNRzsJN1VPWx",
        "outputId": "cc27a3d0-13d0-4c5b-fc39-35199a56466a"
      },
      "execution_count": 6,
      "outputs": [
        {
          "output_type": "stream",
          "name": "stdout",
          "text": [
            " 1[.]1[.]1[.]1\n"
          ]
        }
      ]
    },
    {
      "cell_type": "code",
      "execution_count": null,
      "metadata": {
        "id": "_3wjzcAkLrF5"
      },
      "outputs": [],
      "source": [
        "# palindrome string\n",
        "def ispalindrome(s):\n",
        "  s = s.lower()\n",
        "  i= 0\n",
        "  j = len(s)-1\n",
        "  while i<j:\n",
        "    if s[i]==s[j]:\n",
        "       i+=1\n",
        "       j-=1\n",
        "    else:\n",
        "       return False\n"
      ]
    },
    {
      "cell_type": "code",
      "source": [
        "# reverse the words in string.\n",
        "def reversewords(s):\n",
        "  s= s.strip()  # to remove the extra space.\n",
        "  s= s.split()  # for splitting the words\n",
        "  s.reverse()\n",
        "  return \"\".join(s)\n",
        "string = \"my name is poonam khot\"\n",
        "result = reversewords(string)\n",
        "print(result)\n"
      ],
      "metadata": {
        "colab": {
          "base_uri": "https://localhost:8080/"
        },
        "id": "N8WpBQ-ooDug",
        "outputId": "c0a68792-db43-4b5e-e67b-a48f1091354f"
      },
      "execution_count": 8,
      "outputs": [
        {
          "output_type": "stream",
          "name": "stdout",
          "text": [
            "khotpoonamisnamemy\n"
          ]
        }
      ]
    },
    {
      "cell_type": "code",
      "execution_count": null,
      "metadata": {
        "id": "HfISTb-Ln8IJ"
      },
      "outputs": [],
      "source": [
        "# Reverse a string\n",
        "s = \"I am poonam khot....\"\n",
        "r = s[::-1]\n",
        "print(r)"
      ]
    },
    {
      "cell_type": "code",
      "source": [
        "# length of the last word\n",
        "# given a string s consisting of words and spaces,\n",
        "# return the length of the last word in the string.\n",
        "# A word is a maximal substring consisting of non-space characters only.\n",
        "# input:s=\"Hello World\"\n",
        "# output:5\n",
        "# Explanation: the last word is \"world\" with length 5.\n",
        "def lengthoflastword(s):\n",
        "  s=s.strip()\n",
        "  n= len(s)\n",
        "  i=-1\n",
        "  while i>=(-1*n) and s[i]!=\"\":\n",
        "    i-=1\n",
        "  i+=1\n",
        "  i*=-1\n",
        "  return i\n",
        "string = \"poonam khot my name\"\n",
        "result = lengthoflastword(string)\n",
        "print(result)\n"
      ],
      "metadata": {
        "colab": {
          "base_uri": "https://localhost:8080/"
        },
        "id": "0J4Zc5wwo5Sn",
        "outputId": "4e4d3f65-a3ef-4e6f-b3a4-21528ca587d3"
      },
      "execution_count": 12,
      "outputs": [
        {
          "output_type": "stream",
          "name": "stdout",
          "text": [
            "19\n"
          ]
        }
      ]
    }
  ],
  "metadata": {
    "colab": {
      "provenance": [],
      "authorship_tag": "ABX9TyOPHS2jiJG5Wtk5thytJt9C",
      "include_colab_link": true
    },
    "kernelspec": {
      "display_name": "Python 3",
      "name": "python3"
    },
    "language_info": {
      "name": "python"
    }
  },
  "nbformat": 4,
  "nbformat_minor": 0
}