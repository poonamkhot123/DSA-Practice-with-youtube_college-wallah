{
  "nbformat": 4,
  "nbformat_minor": 0,
  "metadata": {
    "colab": {
      "provenance": [],
      "authorship_tag": "ABX9TyPhj3HVXJBP/10joVFM8KzD",
      "include_colab_link": true
    },
    "kernelspec": {
      "name": "python3",
      "display_name": "Python 3"
    },
    "language_info": {
      "name": "python"
    }
  },
  "cells": [
    {
      "cell_type": "markdown",
      "metadata": {
        "id": "view-in-github",
        "colab_type": "text"
      },
      "source": [
        "<a href=\"https://colab.research.google.com/github/poonamkhot123/DSA-Practice-with-youtube_college-wallah/blob/main/DSA_lecture_4.ipynb\" target=\"_parent\"><img src=\"https://colab.research.google.com/assets/colab-badge.svg\" alt=\"Open In Colab\"/></a>"
      ]
    },
    {
      "cell_type": "markdown",
      "source": [
        "sets and Dcitionary"
      ],
      "metadata": {
        "id": "u82VOJvRud6B"
      }
    },
    {
      "cell_type": "markdown",
      "source": [
        "# **Sets**\n",
        "A set is a collection of unique data, meaning that elements within a set cannot be duplicated."
      ],
      "metadata": {
        "id": "qRR6ld2izmQu"
      }
    },
    {
      "cell_type": "code",
      "source": [
        "set1 = {2,4,\"hello\",2,\"abhinav\",\"hello\",2,4}\n",
        "print(set1)\n",
        "print(type(set1))\n",
        "print(len(set1))"
      ],
      "metadata": {
        "colab": {
          "base_uri": "https://localhost:8080/"
        },
        "id": "fwnZaIFkuglk",
        "outputId": "0c5c87ec-28dd-41db-c052-401f234741b4"
      },
      "execution_count": null,
      "outputs": [
        {
          "output_type": "stream",
          "name": "stdout",
          "text": [
            "{2, 4, 'hello', 'abhinav'}\n",
            "<class 'set'>\n",
            "4\n"
          ]
        }
      ]
    },
    {
      "cell_type": "code",
      "source": [
        "# count the number of unique element in the list.\n",
        "list1 = [3,4,5,6,7,6,45,7,7,8,96,7,7]\n",
        "set1 = set(list1)\n",
        "print(len(set1))\n",
        "print(set1)"
      ],
      "metadata": {
        "colab": {
          "base_uri": "https://localhost:8080/"
        },
        "id": "sgzy2v-Muv2q",
        "outputId": "d74df9a3-e3e2-4a77-b2a4-f20aa0fbceab"
      },
      "execution_count": null,
      "outputs": [
        {
          "output_type": "stream",
          "name": "stdout",
          "text": [
            "8\n",
            "{96, 3, 4, 5, 6, 7, 8, 45}\n"
          ]
        }
      ]
    },
    {
      "cell_type": "code",
      "source": [
        "my_set = {'hello',2,4,\"abhinav\"}\n",
        "set1.add(100)\n",
        "set1.add(\"poonam\")\n",
        "print(set1)"
      ],
      "metadata": {
        "colab": {
          "base_uri": "https://localhost:8080/"
        },
        "id": "VNJ2oCmYvNHx",
        "outputId": "97edbe08-e1b2-4e14-c111-573d47de3069"
      },
      "execution_count": 40,
      "outputs": [
        {
          "output_type": "stream",
          "name": "stdout",
          "text": [
            "{2, 3, 100, 4, 5, 'poonam'}\n"
          ]
        }
      ]
    },
    {
      "cell_type": "code",
      "source": [
        "# discard= it removes the particular element.\n",
        "# it will never gives us error if the element not present in the set.\n",
        "set1={\"hello\",2,4,\"abhinav\"}\n",
        "set1.discard(\"hello\")\n",
        "print(set1)"
      ],
      "metadata": {
        "colab": {
          "base_uri": "https://localhost:8080/"
        },
        "id": "qJlF9sLUvn6u",
        "outputId": "59f1360f-65b2-4b97-d6a5-a5f3bd82f2e8"
      },
      "execution_count": null,
      "outputs": [
        {
          "output_type": "stream",
          "name": "stdout",
          "text": [
            "{2, 4, 'abhinav'}\n"
          ]
        }
      ]
    },
    {
      "cell_type": "code",
      "source": [
        "# remove = it will be remove the element,\n",
        "# but it will show the error if the element not present in the set.\n",
        "set1={\"hello\",2,4,\"abhinav\"}\n",
        "set1.remove(\"hii\")\n",
        "print(set1)"
      ],
      "metadata": {
        "colab": {
          "base_uri": "https://localhost:8080/"
        },
        "id": "PrluHZqswOJL",
        "outputId": "d89abd48-92cd-44eb-c09a-0c3c42f86b2a"
      },
      "execution_count": null,
      "outputs": [
        {
          "output_type": "stream",
          "name": "stdout",
          "text": [
            "{2, 4, 'hello', 'abhinav'}\n"
          ]
        }
      ]
    },
    {
      "cell_type": "code",
      "source": [
        "set1 = {'hello',2,4,'abhinav'}\n",
        "if 'hii' in set1:\n",
        "  print(True)\n",
        "else:\n",
        "  print(False)"
      ],
      "metadata": {
        "colab": {
          "base_uri": "https://localhost:8080/"
        },
        "id": "5jNSVRyYw8NR",
        "outputId": "c47a78f7-2dad-4516-e01e-303ac13e5646"
      },
      "execution_count": null,
      "outputs": [
        {
          "output_type": "stream",
          "name": "stdout",
          "text": [
            "False\n"
          ]
        }
      ]
    },
    {
      "cell_type": "code",
      "source": [
        "# union = |\n",
        "set1 = {1,8,5,2,4}\n",
        "set2 = {8,2,9,6}\n",
        "print(set1 | set2)\n",
        "print(set1.union(set2)) #inbult method"
      ],
      "metadata": {
        "colab": {
          "base_uri": "https://localhost:8080/"
        },
        "id": "Wk4RELwoyF7b",
        "outputId": "01f401f3-01c1-4535-9ddc-c7a843e18822"
      },
      "execution_count": null,
      "outputs": [
        {
          "output_type": "stream",
          "name": "stdout",
          "text": [
            "{1, 2, 4, 5, 6, 8, 9}\n",
            "{1, 2, 4, 5, 6, 8, 9}\n"
          ]
        }
      ]
    },
    {
      "cell_type": "code",
      "source": [
        "# intersection &\n",
        "set1 = {2,3,4,5}\n",
        "set2 = {4,5,6,7}\n",
        "print(set1 & set2)\n",
        "print(set1.intersection(set2))"
      ],
      "metadata": {
        "colab": {
          "base_uri": "https://localhost:8080/"
        },
        "id": "yYqRogE6yS7z",
        "outputId": "148f56d1-ab13-4004-f951-096267e3d907"
      },
      "execution_count": null,
      "outputs": [
        {
          "output_type": "stream",
          "name": "stdout",
          "text": [
            "{4, 5}\n",
            "{4, 5}\n"
          ]
        }
      ]
    },
    {
      "cell_type": "code",
      "source": [
        "# difference\n",
        "print(set2-set1)\n",
        "print(set1.difference(set2))"
      ],
      "metadata": {
        "colab": {
          "base_uri": "https://localhost:8080/"
        },
        "id": "lYRxRIXKyu69",
        "outputId": "79df03f9-f7a9-4f49-97dd-15ca2dbc1055"
      },
      "execution_count": null,
      "outputs": [
        {
          "output_type": "stream",
          "name": "stdout",
          "text": [
            "{6, 7}\n",
            "{2, 3}\n"
          ]
        }
      ]
    },
    {
      "cell_type": "code",
      "source": [
        "# symmetric difference  : not common number between both\n",
        "print(set2^set1)\n",
        "print(set2.symmetric_difference(set1))"
      ],
      "metadata": {
        "colab": {
          "base_uri": "https://localhost:8080/"
        },
        "id": "JXzny84RzHek",
        "outputId": "ff25993e-f3d0-4392-afc2-55f2d6ee09d5"
      },
      "execution_count": null,
      "outputs": [
        {
          "output_type": "stream",
          "name": "stdout",
          "text": [
            "{2, 3, 6, 7}\n",
            "{2, 3, 6, 7}\n"
          ]
        }
      ]
    },
    {
      "cell_type": "markdown",
      "source": [
        "# **Dictionaries**(map or hashmap)\n",
        "A python dictionary is a collection of items,similar to lists and tuples.However , unlike lists and tuples,each item in a dictionary is a key-value pair.(consisting of a key and a value.)\n",
        "\n",
        "\n",
        "*   key --> unique\n",
        "*   key --> non mutable(can't be list)\n",
        "\n"
      ],
      "metadata": {
        "id": "JTPZ2zLYz0qy"
      }
    },
    {
      "cell_type": "code",
      "source": [
        "x = { }\n",
        "print(type(x))"
      ],
      "metadata": {
        "id": "_6DmwyN43_R4"
      },
      "execution_count": null,
      "outputs": []
    },
    {
      "cell_type": "code",
      "source": [
        "dict1 = {1:\"abhinav\",\"hello\":100,10.21:\"hii\",\"key\":True}\n",
        "print(dict1)\n",
        "print(type(dict1))\n",
        "print(len(dict1))"
      ],
      "metadata": {
        "id": "Ge2l4z0g37Ii"
      },
      "execution_count": null,
      "outputs": []
    },
    {
      "cell_type": "code",
      "source": [
        "# updating\n",
        "dict1 ={1:\"poonam\",2:\"aman\",3:\"rahul\",4:\"yash\"}\n",
        "dict1[5] =\"mahesh\"\n",
        "dict1[2] = \"abhi\"\n",
        "dict1.update({1:\"abhishek\",10:\"yuvraj\"})\n",
        "print(dict1)"
      ],
      "metadata": {
        "id": "rnzeCXNa4HiC",
        "colab": {
          "base_uri": "https://localhost:8080/"
        },
        "outputId": "c19e71da-1a48-45a5-b7ff-f64b447ff0ef"
      },
      "execution_count": 17,
      "outputs": [
        {
          "output_type": "stream",
          "name": "stdout",
          "text": [
            "{1: 'abhishek', 2: 'abhi', 3: 'rahul', 4: 'yash', 5: 'mahesh', 10: 'yuvraj'}\n"
          ]
        }
      ]
    },
    {
      "cell_type": "code",
      "source": [
        "# creating a dictionary by using a dict function\n",
        "dict1 = dict(abhishek=1,aman=2)\n",
        "print(dict1)"
      ],
      "metadata": {
        "id": "w7enZZF-4m0v",
        "colab": {
          "base_uri": "https://localhost:8080/"
        },
        "outputId": "1fdd7a5f-3444-401d-b58f-2c94565c18a0"
      },
      "execution_count": 18,
      "outputs": [
        {
          "output_type": "stream",
          "name": "stdout",
          "text": [
            "{'abhishek': 1, 'aman': 2}\n"
          ]
        }
      ]
    },
    {
      "cell_type": "code",
      "source": [
        "# removing the element from the dictionary\n",
        "dict1 ={1:\"poonam\",2:\"aman\",3:\"rahul\",4:\"yash\"}\n",
        "dict1.pop(2)\n",
        "del dict1[1]\n",
        "print(dict1)"
      ],
      "metadata": {
        "id": "dE7lGcED5Hbc",
        "colab": {
          "base_uri": "https://localhost:8080/"
        },
        "outputId": "ca490c14-ab4a-4670-da89-77265970b450"
      },
      "execution_count": 19,
      "outputs": [
        {
          "output_type": "stream",
          "name": "stdout",
          "text": [
            "{3: 'rahul', 4: 'yash'}\n"
          ]
        }
      ]
    },
    {
      "cell_type": "markdown",
      "source": [
        "*  .items() = for iterating in a     dictionary it will return list of tuple.\n",
        "*  .keys() = it will return the keys.\n",
        "*  .values() = it will return the values.\n",
        "\n"
      ],
      "metadata": {
        "id": "LwYTKDO36cwo"
      }
    },
    {
      "cell_type": "code",
      "source": [
        "dict1 ={1:\"poonam\",2:\"aman\",3:\"rahul\",4:\"yash\"}\n",
        "for key,value in dict1.items():\n",
        "  print(key,value)"
      ],
      "metadata": {
        "colab": {
          "base_uri": "https://localhost:8080/"
        },
        "id": "ry5nHz6L65kV",
        "outputId": "08ff7ffc-efe9-4dc0-dac9-47962f7ccdf8"
      },
      "execution_count": 20,
      "outputs": [
        {
          "output_type": "stream",
          "name": "stdout",
          "text": [
            "1 poonam\n",
            "2 aman\n",
            "3 rahul\n",
            "4 yash\n"
          ]
        }
      ]
    },
    {
      "cell_type": "code",
      "source": [
        "print(dict1.keys())\n",
        "for key in dict1.keys():\n",
        "  print(key)"
      ],
      "metadata": {
        "colab": {
          "base_uri": "https://localhost:8080/"
        },
        "id": "jxOe4vVY7H5G",
        "outputId": "b82a618d-03dd-42b7-f67d-d1e8590b24af"
      },
      "execution_count": 21,
      "outputs": [
        {
          "output_type": "stream",
          "name": "stdout",
          "text": [
            "dict_keys([1, 2, 3, 4])\n",
            "1\n",
            "2\n",
            "3\n",
            "4\n"
          ]
        }
      ]
    },
    {
      "cell_type": "code",
      "source": [
        "print(dict1.values())\n",
        "for value in dict1.values():\n",
        "  print(value)"
      ],
      "metadata": {
        "colab": {
          "base_uri": "https://localhost:8080/"
        },
        "id": "G4zqO8zb7SPC",
        "outputId": "33e40e84-77a7-4906-ee3d-b067b7e073ca"
      },
      "execution_count": 23,
      "outputs": [
        {
          "output_type": "stream",
          "name": "stdout",
          "text": [
            "dict_values(['poonam', 'aman', 'rahul', 'yash'])\n",
            "poonam\n",
            "aman\n",
            "rahul\n",
            "yash\n"
          ]
        }
      ]
    },
    {
      "cell_type": "code",
      "source": [
        "# how many times the element comes in the dictionary\n",
        "list1 = [\"poonam\",\"sahil\",\"abhinav\",\"mahesh\",\"yash\",\"mahesh\",\"aman\",\"yash\",\"poonam\"]\n",
        "freq = {}\n",
        "for name in list1:\n",
        "  if name not in freq:\n",
        "    freq[name] = 1\n",
        "  else:\n",
        "    freq[name] +=1\n",
        "print(freq)"
      ],
      "metadata": {
        "colab": {
          "base_uri": "https://localhost:8080/"
        },
        "id": "bgZjERPm7g6B",
        "outputId": "17b34188-133b-4a4f-8096-eb9029174242"
      },
      "execution_count": 25,
      "outputs": [
        {
          "output_type": "stream",
          "name": "stdout",
          "text": [
            "{'poonam': 2, 'sahil': 1, 'abhinav': 1, 'mahesh': 2, 'yash': 2, 'aman': 1}\n"
          ]
        }
      ]
    },
    {
      "cell_type": "code",
      "source": [
        "# how many times characters in a string is comming.\n",
        "s = 'physics wallah skills.'\n",
        "freq = {}\n",
        "for name in s:\n",
        "  if name not in freq:\n",
        "    freq[name] = 1\n",
        "  else:\n",
        "    freq[name] +=1\n",
        "  print(freq)"
      ],
      "metadata": {
        "id": "7kSlzmXh8tqj"
      },
      "execution_count": null,
      "outputs": []
    },
    {
      "cell_type": "markdown",
      "source": [
        "# Hashing\n",
        "Hashing is a technique used in data strctures that efficiently stores and retrives data in a way that allows for quick access."
      ],
      "metadata": {
        "id": "yaQn1-Mf9pvA"
      }
    },
    {
      "cell_type": "markdown",
      "source": [
        "**Two sum**\n",
        "given an array of integers nums and an integer target,return indices of the two numbers such that they add up to target.\n",
        "you may assume that each input would have exactly one solution,and you may not use the same element twice.\n",
        "*  eg: input:nums= [2,7,11,15] ,target =9\n",
        "output :[0,1]\n",
        "Explanation: becuase nums[0]+nums[1] ==9,we return [0,1].\n"
      ],
      "metadata": {
        "id": "aKEg9G_RLd2A"
      }
    },
    {
      "cell_type": "code",
      "source": [
        "def twoSum(nums,target):\n",
        "  n = len(nums)\n",
        "  dict1 = {}\n",
        "  for i in range(n):\n",
        "    rem = target - nums[i]\n",
        "    if rem in dict1:\n",
        "      return [dict1[rem],i]\n",
        "    dict1[nums[i]] = i\n",
        "my_list= [3,4,5,6,7,8]\n",
        "target = 14 # Define target\n",
        "result = twoSum(my_list, target)\n",
        "print(result)"
      ],
      "metadata": {
        "colab": {
          "base_uri": "https://localhost:8080/"
        },
        "id": "PnIC2_HAMR7D",
        "outputId": "84f57192-cc97-4add-ede6-83620cc14c8d"
      },
      "execution_count": 32,
      "outputs": [
        {
          "output_type": "stream",
          "name": "stdout",
          "text": [
            "[3, 5]\n"
          ]
        }
      ]
    },
    {
      "cell_type": "code",
      "source": [
        "#Two sum : input array is sorted.\n",
        "def twoSum(nums, target): # Removed 'self' and added 'target'\n",
        "    left = 0\n",
        "    right = len(nums)-1\n",
        "    while left<right:\n",
        "        sum1 = nums[left]+nums[right]\n",
        "        if sum1 == target:\n",
        "            return [left+1,right+1]\n",
        "        elif sum1>target:\n",
        "            right-=1\n",
        "        else:\n",
        "            left+=1\n",
        "my_list= [3,4,5,6,7,8]\n",
        "target = 14 # Define target\n",
        "result = twoSum(my_list, target) # Pass target to the function\n",
        "print(result)"
      ],
      "metadata": {
        "colab": {
          "base_uri": "https://localhost:8080/"
        },
        "id": "VLDoXs889_91",
        "outputId": "0a3db42c-4e5c-4b76-e802-3b0e502b29fc"
      },
      "execution_count": 36,
      "outputs": [
        {
          "output_type": "stream",
          "name": "stdout",
          "text": [
            "[4, 6]\n"
          ]
        }
      ]
    },
    {
      "cell_type": "markdown",
      "source": [
        "# **intersection of two arrays**\n",
        "given two integers nums1 and nums2,return an array of their intersection.Each element in the resuly must be unique and you may return,the result in any order.\n",
        "* input: nums1 = [4,9,5]\n",
        "*        nums2 = [2,2]\n",
        "*  output: [2]\n",
        "\n"
      ],
      "metadata": {
        "id": "xl4tEy_-S7eu"
      }
    },
    {
      "cell_type": "code",
      "source": [
        "def intersection(nums1,nums2):\n",
        "  set1=set(nums1)\n",
        "  set2=set(nums2)\n",
        "  return list(set1.intersection(set2))\n"
      ],
      "metadata": {
        "id": "C1nSrBv6TjRq"
      },
      "execution_count": 1,
      "outputs": []
    },
    {
      "cell_type": "code",
      "source": [
        "# first unique character in a string\n",
        "# given a string s,find the first non-repeating character in it and returns its index.\n",
        "# if it does not exist,return -1.\n",
        "def firstuniqchar(s): # Changed str to s to match the loop variable below\n",
        "  freq = {}\n",
        "  for i in s: # Changed 'i not in s' to 'i in s' and removed the 'not'\n",
        "    if i not in freq:\n",
        "        freq[i] = 1\n",
        "    else:\n",
        "      freq[i] +=1\n",
        "  for i in range(len(s)): # Corrected indentation\n",
        "    if freq[s[i]]==1: # Corrected indentation\n",
        "      return i # Corrected indentation\n",
        "  return -1 # Corrected indentation\n",
        "my_list = \"poonam khot\"\n",
        "result = firstuniqchar(my_list)\n",
        "print(result)"
      ],
      "metadata": {
        "colab": {
          "base_uri": "https://localhost:8080/"
        },
        "id": "NmYBOHfbWMJv",
        "outputId": "746c8eaa-4fe2-42e7-f285-25cf57c40653"
      },
      "execution_count": 6,
      "outputs": [
        {
          "output_type": "stream",
          "name": "stdout",
          "text": [
            "0\n"
          ]
        }
      ]
    },
    {
      "cell_type": "code",
      "source": [
        "# anagram string\n",
        "def sort_string(s):\n",
        "  # Sorts the characters of a string and returns the sorted string\n",
        "  return \"\".join(sorted(s))\n",
        "\n",
        "def groupAnagram(strs):\n",
        "  # Groups anagrams from a list of strings\n",
        "  anagram_map = {}\n",
        "  for s in strs:\n",
        "    key = sort_string(s)\n",
        "    if key in anagram_map:\n",
        "      anagram_map[key].append(s)\n",
        "    else:\n",
        "      anagram_map[key] = [s]\n",
        "  return list(anagram_map.values())\n",
        "\n",
        "my_list = [\"eat\", \"tea\", \"tan\", \"ate\", \"nat\", \"bat\"] # Example list of strings\n",
        "result = groupAnagram(my_list)\n",
        "print(result)"
      ],
      "metadata": {
        "colab": {
          "base_uri": "https://localhost:8080/"
        },
        "id": "06WzMV6Dgi0g",
        "outputId": "2984277c-c262-49be-a655-6d7a343da7d3"
      },
      "execution_count": 11,
      "outputs": [
        {
          "output_type": "stream",
          "name": "stdout",
          "text": [
            "[['eat', 'tea', 'ate'], ['tan', 'nat'], ['bat']]\n"
          ]
        }
      ]
    },
    {
      "cell_type": "code",
      "source": [],
      "metadata": {
        "id": "gIrJ0b8EiAxU"
      },
      "execution_count": null,
      "outputs": []
    }
  ]
}