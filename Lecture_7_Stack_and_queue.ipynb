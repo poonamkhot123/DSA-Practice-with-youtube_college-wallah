{
  "nbformat": 4,
  "nbformat_minor": 0,
  "metadata": {
    "colab": {
      "provenance": [],
      "authorship_tag": "ABX9TyNmQmONOYxLuit660zBJiGs",
      "include_colab_link": true
    },
    "kernelspec": {
      "name": "python3",
      "display_name": "Python 3"
    },
    "language_info": {
      "name": "python"
    }
  },
  "cells": [
    {
      "cell_type": "markdown",
      "metadata": {
        "id": "view-in-github",
        "colab_type": "text"
      },
      "source": [
        "<a href=\"https://colab.research.google.com/github/poonamkhot123/DSA-Practice-with-youtube_college-wallah/blob/main/Lecture_7_Stack_and_queue.ipynb\" target=\"_parent\"><img src=\"https://colab.research.google.com/assets/colab-badge.svg\" alt=\"Open In Colab\"/></a>"
      ]
    },
    {
      "cell_type": "markdown",
      "source": [
        "# **Stack**"
      ],
      "metadata": {
        "id": "jajceI_KejEZ"
      }
    },
    {
      "cell_type": "code",
      "source": [
        "st = []\n",
        "\n",
        "st.append(8)\n",
        "st.append(1)\n",
        "st.append(3)\n",
        "st.append(4)\n",
        "\n",
        "print(st)\n",
        "\n",
        "st.pop()\n",
        "print(st)"
      ],
      "metadata": {
        "colab": {
          "base_uri": "https://localhost:8080/"
        },
        "id": "ptarRx_SemC3",
        "outputId": "808a8bf1-dcba-405c-d82c-4e99d473a98b"
      },
      "execution_count": null,
      "outputs": [
        {
          "output_type": "stream",
          "name": "stdout",
          "text": [
            "[8, 1, 3, 4]\n",
            "[8, 1, 3]\n"
          ]
        }
      ]
    },
    {
      "cell_type": "code",
      "source": [
        "# Implementation of Stack using Array.\n",
        "class Stack:\n",
        "  def __init__(self):\n",
        "    self.st = []\n",
        "\n",
        "  def push(self,x):\n",
        "    self.st.append(x)\n",
        "\n",
        "  def pop(self):\n",
        "    if len(self.st)  == 0:\n",
        "      return -1\n",
        "    x = self.st[-1]\n",
        "    self.st.pop()\n",
        "    return x\n",
        "\n",
        "  def top(self):\n",
        "    if len(self.st) == 0:\n",
        "      return -1\n",
        "    return self.st[-1]\n",
        "\n",
        "  def size(self):\n",
        "    return len(self.st)\n",
        "\n",
        "stack = Stack()\n",
        "\n",
        "stack.push(5)\n",
        "stack.push(4)\n",
        "stack.push(8)\n",
        "stack.push(9)\n",
        "\n",
        "print(stack.pop())\n",
        "print(stack.top())\n",
        "print(stack.size())"
      ],
      "metadata": {
        "colab": {
          "base_uri": "https://localhost:8080/"
        },
        "id": "zBNKbrcHX383",
        "outputId": "69b444e6-2c22-49fd-e1ba-be64517c9972"
      },
      "execution_count": null,
      "outputs": [
        {
          "output_type": "stream",
          "name": "stdout",
          "text": [
            "9\n",
            "8\n",
            "3\n"
          ]
        }
      ]
    },
    {
      "cell_type": "code",
      "source": [
        "# Implementation of Stack using Linked list.\n",
        "class Node:\n",
        "  def __init__(self,data):\n",
        "    self.data = data\n",
        "    self.next = None\n",
        "\n",
        "class Stack:\n",
        "  def __init__(self):\n",
        "    self.top = None\n",
        "    self.length = 0\n",
        "\n",
        "  def push(self,x):\n",
        "    self.length+=1\n",
        "    if self.top is None:\n",
        "      self.top = Node(x)\n",
        "      return\n",
        "    else:\n",
        "      newNode = Node(x)\n",
        "      newNode.next = self.top\n",
        "      self.top = newNode\n",
        "\n",
        "  def pop(self):\n",
        "    if self.top == None:\n",
        "      return -1\n",
        "    self.length-=1\n",
        "    x= self.top.data\n",
        "    self.top = self.top.next\n",
        "    return x\n",
        "\n",
        "  def getTop(self):\n",
        "    if self.top == None:\n",
        "      return -1\n",
        "    return self.top.data\n",
        "\n",
        "  def size(self):\n",
        "    return self.length\n",
        "\n",
        "stack = Stack()\n",
        "\n",
        "stack.push(5)\n",
        "stack.push(4)\n",
        "stack.push(3)\n",
        "stack.push(9)\n",
        "\n",
        "print(stack.size())\n",
        "print(stack.pop())\n",
        "print(stack.getTop())"
      ],
      "metadata": {
        "colab": {
          "base_uri": "https://localhost:8080/"
        },
        "id": "gDl9tYMnX4AS",
        "outputId": "6a9006ea-99a2-43d0-993c-f8e3b589ab8f"
      },
      "execution_count": null,
      "outputs": [
        {
          "output_type": "stream",
          "name": "stdout",
          "text": [
            "4\n",
            "9\n",
            "3\n"
          ]
        }
      ]
    },
    {
      "cell_type": "markdown",
      "source": [
        "# **Queue**\n",
        "* Queue is a linear data structure that follows FIFO (first in first out) Principle,so the first element inserted is the first to be popped out."
      ],
      "metadata": {
        "id": "rzF0ZYy2erHq"
      }
    },
    {
      "cell_type": "markdown",
      "source": [
        "# Basic Operations of Queue\n",
        "\n",
        "* push\n",
        "*  pop\n",
        "* front\n",
        "* isEmpty\n",
        "* isFull"
      ],
      "metadata": {
        "id": "wpr2NBwP2eAa"
      }
    },
    {
      "cell_type": "code",
      "source": [
        "# Array Implementation of Queue.\n",
        "class Queue:\n",
        "  def __init__(self):\n",
        "    self.q = []\n",
        "    self.front = -1\n",
        "\n",
        "  def push(self,x):\n",
        "    if self.front == -1:\n",
        "      self.front = 0\n",
        "    self.q.append(x)\n",
        "\n",
        "  def pop(self):\n",
        "    if len(self.q) == 0:\n",
        "      return -1\n",
        "    x = self.q[self.front]\n",
        "    self.front+=1\n",
        "    if self.front == len(self.q):\n",
        "      self.front = -1\n",
        "      self.q = []\n",
        "    return x\n",
        "\n",
        "  def getFront(self):\n",
        "    if len(self.q) == 0:\n",
        "      return -1\n",
        "    return self.q[self.front]\n",
        "\n",
        "  def size(self):\n",
        "    if self.front == -1:\n",
        "      return 0\n",
        "    return len(self.q) - self.front\n",
        "\n",
        "queue = Queue()\n",
        "\n",
        "queue.push(5)\n",
        "queue.push(4)\n",
        "queue.push(3)\n",
        "queue.push(1)\n",
        "\n",
        "print(queue.getFront())\n",
        "queue.pop()\n",
        "print(queue.getFront())\n",
        "print(queue.size())"
      ],
      "metadata": {
        "id": "JmvLaY2aX4DS",
        "colab": {
          "base_uri": "https://localhost:8080/"
        },
        "outputId": "8785135c-0fa2-4a21-ce9e-4f941b76ef00"
      },
      "execution_count": 6,
      "outputs": [
        {
          "output_type": "stream",
          "name": "stdout",
          "text": [
            "5\n",
            "4\n",
            "3\n"
          ]
        }
      ]
    },
    {
      "cell_type": "code",
      "source": [
        "# Linked list implementation of Queue.\n",
        "\n",
        "class Node:\n",
        "  def __init__(self,data):\n",
        "    self.data = data\n",
        "    self.next = None\n",
        "\n",
        "class Queue:\n",
        "  def __init__(self):\n",
        "    self.front = None\n",
        "    self.rear = None\n",
        "    self.length = 0\n",
        "\n",
        "  def push(self,x):\n",
        "    newNode = Node(x)\n",
        "    self.length+=1\n",
        "    if self.front is None:\n",
        "      self.front = newNode\n",
        "      self.rear = newNode\n",
        "    else:\n",
        "      self.rear.next = newNode\n",
        "      self.rear = newNode\n",
        "\n",
        "  def pop(self):\n",
        "    if self.front is None:\n",
        "      return -1\n",
        "\n",
        "    x = self.front.data\n",
        "    self.front = self.front.next\n",
        "    self.length-=1\n",
        "    if self.front is None:\n",
        "      self.rear = None\n",
        "    return x\n",
        "\n",
        "  def getTop(self):\n",
        "    if self.front is None:\n",
        "      return -1\n",
        "    return self.front.data\n",
        "\n",
        "\n",
        "  def Size(self):\n",
        "    return self.length\n",
        "\n",
        "queue = Queue()\n",
        "queue.push(5)\n",
        "queue.push(4)\n",
        "queue.push(3)\n",
        "queue.push(1)\n",
        "\n",
        "print(queue.getTop())\n",
        "queue.pop()\n",
        "print(queue.getTop())\n",
        "print(queue.Size())"
      ],
      "metadata": {
        "id": "FqECc9SNXkHw",
        "colab": {
          "base_uri": "https://localhost:8080/"
        },
        "outputId": "ba299ccb-c434-4e03-9932-819abae09b76"
      },
      "execution_count": 16,
      "outputs": [
        {
          "output_type": "stream",
          "name": "stdout",
          "text": [
            "5\n",
            "4\n",
            "3\n"
          ]
        }
      ]
    },
    {
      "cell_type": "markdown",
      "source": [
        "# Types of Queue\n",
        "\n",
        "* Simple Queue\n",
        "* Circular Queue\n",
        "* Priority Queue\n",
        "* Double Ended Queue"
      ],
      "metadata": {
        "id": "blajmGOv_gcK"
      }
    },
    {
      "cell_type": "code",
      "source": [],
      "metadata": {
        "id": "SzcxpD64XkOb"
      },
      "execution_count": null,
      "outputs": []
    }
  ]
}