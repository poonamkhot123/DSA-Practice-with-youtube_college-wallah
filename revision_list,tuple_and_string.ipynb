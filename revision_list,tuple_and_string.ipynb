{
  "nbformat": 4,
  "nbformat_minor": 0,
  "metadata": {
    "colab": {
      "provenance": [],
      "authorship_tag": "ABX9TyOcbWe8YdMAn/jkQZEK+6J3",
      "include_colab_link": true
    },
    "kernelspec": {
      "name": "python3",
      "display_name": "Python 3"
    },
    "language_info": {
      "name": "python"
    }
  },
  "cells": [
    {
      "cell_type": "markdown",
      "metadata": {
        "id": "view-in-github",
        "colab_type": "text"
      },
      "source": [
        "<a href=\"https://colab.research.google.com/github/poonamkhot123/DSA-Practice-with-youtube_college-wallah/blob/main/revision_list%2Ctuple_and_string.ipynb\" target=\"_parent\"><img src=\"https://colab.research.google.com/assets/colab-badge.svg\" alt=\"Open In Colab\"/></a>"
      ]
    },
    {
      "cell_type": "code",
      "execution_count": null,
      "metadata": {
        "colab": {
          "base_uri": "https://localhost:8080/"
        },
        "id": "soIPYcMERt74",
        "outputId": "5500a63d-51ab-4929-92ee-a432a6bc68a6"
      },
      "outputs": [
        {
          "output_type": "stream",
          "name": "stdout",
          "text": [
            "['aman', 'ravi', 'rahul', 'yash']\n"
          ]
        }
      ],
      "source": [
        "names = ['aman','ravi','rahul','yash']\n",
        "print(names)"
      ]
    },
    {
      "cell_type": "code",
      "source": [
        "print(type(names))"
      ],
      "metadata": {
        "colab": {
          "base_uri": "https://localhost:8080/"
        },
        "id": "CaV4FG_DTgMI",
        "outputId": "fc734249-0c60-4cd3-ce47-696d6692a3b9"
      },
      "execution_count": null,
      "outputs": [
        {
          "output_type": "stream",
          "name": "stdout",
          "text": [
            "<class 'list'>\n"
          ]
        }
      ]
    },
    {
      "cell_type": "code",
      "source": [
        "print(len(names))"
      ],
      "metadata": {
        "colab": {
          "base_uri": "https://localhost:8080/"
        },
        "id": "5wnovp7GTgas",
        "outputId": "61944696-769e-48d9-f873-82997eccecf8"
      },
      "execution_count": null,
      "outputs": [
        {
          "output_type": "stream",
          "name": "stdout",
          "text": [
            "4\n"
          ]
        }
      ]
    },
    {
      "cell_type": "code",
      "source": [
        "print(names[0])"
      ],
      "metadata": {
        "colab": {
          "base_uri": "https://localhost:8080/"
        },
        "id": "FaOabIoYTgky",
        "outputId": "22115938-e75b-4445-e8fd-39d7025d56db"
      },
      "execution_count": null,
      "outputs": [
        {
          "output_type": "stream",
          "name": "stdout",
          "text": [
            "aman\n"
          ]
        }
      ]
    },
    {
      "cell_type": "code",
      "source": [
        "print(names[2])"
      ],
      "metadata": {
        "colab": {
          "base_uri": "https://localhost:8080/"
        },
        "id": "yDSXRzFxTgsi",
        "outputId": "3af14b05-3996-4779-8db7-6f5bb3e5fdf3"
      },
      "execution_count": null,
      "outputs": [
        {
          "output_type": "stream",
          "name": "stdout",
          "text": [
            "rahul\n"
          ]
        }
      ]
    },
    {
      "cell_type": "code",
      "source": [
        "list1 = [5,'poonam',34.45,True]\n",
        "print(list1)"
      ],
      "metadata": {
        "colab": {
          "base_uri": "https://localhost:8080/"
        },
        "id": "lEadxyD1TgzO",
        "outputId": "f2aafb17-cbb0-411f-e074-6db031f8a3f1"
      },
      "execution_count": null,
      "outputs": [
        {
          "output_type": "stream",
          "name": "stdout",
          "text": [
            "[5, 'poonam', 34.45, True]\n"
          ]
        }
      ]
    },
    {
      "cell_type": "code",
      "source": [
        "list1 = [3,4,5,6,7,8]\n",
        "list1.append(9)\n",
        "print(list1)"
      ],
      "metadata": {
        "id": "Briw20Z3VMuE",
        "colab": {
          "base_uri": "https://localhost:8080/"
        },
        "outputId": "ffbf41ff-f4c8-41e1-efe1-90976f35b1c8"
      },
      "execution_count": null,
      "outputs": [
        {
          "output_type": "stream",
          "name": "stdout",
          "text": [
            "[3, 4, 5, 6, 7, 8, 9]\n"
          ]
        }
      ]
    },
    {
      "cell_type": "code",
      "source": [
        "list1.append([1,2,3])\n",
        "print(list1)"
      ],
      "metadata": {
        "id": "rEsRVuQBUoPU",
        "colab": {
          "base_uri": "https://localhost:8080/"
        },
        "outputId": "02bb1264-8e1f-45a3-d0ac-e75346347dfa"
      },
      "execution_count": null,
      "outputs": [
        {
          "output_type": "stream",
          "name": "stdout",
          "text": [
            "[3, 4, 5, 6, 7, 8, 9, [1, 2, 3]]\n"
          ]
        }
      ]
    },
    {
      "cell_type": "code",
      "source": [
        "list1.extend([1,2,3])"
      ],
      "metadata": {
        "id": "cbn3OrKSUKaU"
      },
      "execution_count": null,
      "outputs": []
    },
    {
      "cell_type": "code",
      "source": [
        "list1 = [3,2,3,45,65,6,7,89]\n",
        "list1.insert(3,100)\n",
        "print(list1)"
      ],
      "metadata": {
        "id": "4UnMJEHAUKdC",
        "colab": {
          "base_uri": "https://localhost:8080/"
        },
        "outputId": "85a43aea-bc56-480c-cf75-524d1230bb13"
      },
      "execution_count": null,
      "outputs": [
        {
          "output_type": "stream",
          "name": "stdout",
          "text": [
            "[3, 2, 3, 100, 45, 65, 6, 7, 89]\n"
          ]
        }
      ]
    },
    {
      "cell_type": "code",
      "source": [
        "print(min(list1))\n",
        "print(max(list1))"
      ],
      "metadata": {
        "id": "fpMnEYlIUKf4",
        "colab": {
          "base_uri": "https://localhost:8080/"
        },
        "outputId": "f6b1b54d-18ef-4b36-f0a4-becbbfb2795a"
      },
      "execution_count": null,
      "outputs": [
        {
          "output_type": "stream",
          "name": "stdout",
          "text": [
            "2\n",
            "100\n"
          ]
        }
      ]
    },
    {
      "cell_type": "code",
      "source": [
        "list1 = [4,3,4,5,6,7,8,9,3,4,1,1]\n",
        "print(list1.count(1))\n",
        "print(list1.count(3))"
      ],
      "metadata": {
        "id": "xi4P2S1bUKik",
        "colab": {
          "base_uri": "https://localhost:8080/"
        },
        "outputId": "f7afa2d0-a7f7-4cc9-df63-626af03c2e31"
      },
      "execution_count": null,
      "outputs": [
        {
          "output_type": "stream",
          "name": "stdout",
          "text": [
            "2\n",
            "2\n"
          ]
        }
      ]
    },
    {
      "cell_type": "code",
      "source": [
        "list1.sort()\n",
        "print(list1)"
      ],
      "metadata": {
        "id": "UmyT6xwwUKlV",
        "colab": {
          "base_uri": "https://localhost:8080/"
        },
        "outputId": "33e1046b-11f8-4621-cf82-3833a1bcbec4"
      },
      "execution_count": null,
      "outputs": [
        {
          "output_type": "stream",
          "name": "stdout",
          "text": [
            "[1, 1, 3, 3, 4, 4, 4, 5, 6, 7, 8, 9]\n"
          ]
        }
      ]
    },
    {
      "cell_type": "code",
      "source": [
        "list1.reverse()\n",
        "print(list1)"
      ],
      "metadata": {
        "id": "npZDo3p7Wt1Z",
        "colab": {
          "base_uri": "https://localhost:8080/"
        },
        "outputId": "678d461f-5eaa-4142-92ba-b4e41adf4de6"
      },
      "execution_count": null,
      "outputs": [
        {
          "output_type": "stream",
          "name": "stdout",
          "text": [
            "[9, 8, 7, 6, 5, 4, 4, 4, 3, 3, 1, 1]\n"
          ]
        }
      ]
    },
    {
      "cell_type": "code",
      "source": [
        "list1  = [1,5,6,4,3,4,3,4,5,2]\n",
        "print(list1.index(2))\n",
        "print(list1.index(5))"
      ],
      "metadata": {
        "id": "91YMM_reWt5Q",
        "colab": {
          "base_uri": "https://localhost:8080/"
        },
        "outputId": "8ff27e97-338c-410d-b858-db6dc1e91415"
      },
      "execution_count": null,
      "outputs": [
        {
          "output_type": "stream",
          "name": "stdout",
          "text": [
            "9\n",
            "1\n"
          ]
        }
      ]
    },
    {
      "cell_type": "code",
      "source": [
        "list1 = [1,2,3]\n",
        "list2 = list1\n",
        "list2.append(4)\n",
        "\n",
        "print(list1)\n",
        "print(list2)"
      ],
      "metadata": {
        "id": "37tOyFpqX2gx"
      },
      "execution_count": null,
      "outputs": []
    },
    {
      "cell_type": "markdown",
      "source": [
        "# **Tuple**"
      ],
      "metadata": {
        "id": "t52oVDExZ7XO"
      }
    },
    {
      "cell_type": "code",
      "source": [
        "tuple1 = (\"hello\",123.23,34,34,4,5,6)\n",
        "print(tuple1)\n",
        "print(tuple1[3])\n",
        "print(tuple1[-5])"
      ],
      "metadata": {
        "colab": {
          "base_uri": "https://localhost:8080/"
        },
        "id": "JgPlWNblX22h",
        "outputId": "af136152-2436-48f3-c92b-6f38c2b3b670"
      },
      "execution_count": null,
      "outputs": [
        {
          "output_type": "stream",
          "name": "stdout",
          "text": [
            "('hello', 123.23, 34, 34, 4, 5, 6)\n",
            "34\n",
            "34\n"
          ]
        }
      ]
    },
    {
      "cell_type": "code",
      "source": [
        "print(len(tuple1))\n",
        "print(type(tuple1))"
      ],
      "metadata": {
        "colab": {
          "base_uri": "https://localhost:8080/"
        },
        "id": "pJnF-wZFX25h",
        "outputId": "99f6da03-5afb-45e2-d337-1c1305c4bc23"
      },
      "execution_count": null,
      "outputs": [
        {
          "output_type": "stream",
          "name": "stdout",
          "text": [
            "7\n",
            "<class 'tuple'>\n"
          ]
        }
      ]
    },
    {
      "cell_type": "code",
      "source": [
        "# operations not happend in tuple.\n",
        "\n",
        "# append()\n",
        "# extend()\n",
        "# insert()\n",
        "# remove()\n",
        "# pop()\n",
        "# sort()\n",
        "# reverse()\n",
        "# copy()\n",
        "# clear()"
      ],
      "metadata": {
        "id": "MXPkJkxPX286"
      },
      "execution_count": null,
      "outputs": []
    },
    {
      "cell_type": "code",
      "source": [
        "tuple1 = (3,4,5,6,7,77,678,345,45,6,66)\n",
        "print(tuple1[2:4])\n",
        "print(tuple1.count(6))"
      ],
      "metadata": {
        "colab": {
          "base_uri": "https://localhost:8080/"
        },
        "id": "DzYRB7aNX2_5",
        "outputId": "ee1b980d-5df8-42e4-f7ea-1c23712f1fbb"
      },
      "execution_count": null,
      "outputs": [
        {
          "output_type": "stream",
          "name": "stdout",
          "text": [
            "(5, 6)\n",
            "2\n"
          ]
        }
      ]
    },
    {
      "cell_type": "code",
      "source": [
        "name = 'poonam'\n",
        "grade = 'A'\n",
        "company = 'PW skills'\n",
        "introduction = \"\"\"My name is Abinav\n",
        "i live in banglore\n",
        "i love coding\"\"\"\n",
        "\n",
        "print(name,type(name))"
      ],
      "metadata": {
        "colab": {
          "base_uri": "https://localhost:8080/"
        },
        "id": "a_9AqsLdX3Cu",
        "outputId": "77d27ea0-1ecd-4d6e-c7af-4d0c63088834"
      },
      "execution_count": null,
      "outputs": [
        {
          "output_type": "stream",
          "name": "stdout",
          "text": [
            "poonam <class 'str'>\n"
          ]
        }
      ]
    },
    {
      "cell_type": "code",
      "source": [
        "name = \"physics wallah\"\n",
        "name += \"skilss\"\n",
        "print(name[4])\n",
        "print(len(name))"
      ],
      "metadata": {
        "colab": {
          "base_uri": "https://localhost:8080/"
        },
        "id": "aRkb5opuX3F1",
        "outputId": "2d2cab9f-8b56-4caa-a390-fcb8b7ef4c5d"
      },
      "execution_count": null,
      "outputs": [
        {
          "output_type": "stream",
          "name": "stdout",
          "text": [
            "i\n",
            "20\n"
          ]
        }
      ]
    },
    {
      "cell_type": "code",
      "source": [
        "name = \"physics wallah skills\"\n",
        "print(name[4])\n",
        "print(name[-2])\n",
        "print(len(name))\n",
        "\n",
        "print(name.lower())\n",
        "print(name.upper())\n",
        "print(name.capitalize())"
      ],
      "metadata": {
        "colab": {
          "base_uri": "https://localhost:8080/"
        },
        "id": "6UydTRW7X3MY",
        "outputId": "85458018-d242-45b8-a6ff-341df46d5863"
      },
      "execution_count": null,
      "outputs": [
        {
          "output_type": "stream",
          "name": "stdout",
          "text": [
            "i\n",
            "l\n",
            "21\n",
            "physics wallah skills\n",
            "PHYSICS WALLAH SKILLS\n",
            "Physics wallah skills\n"
          ]
        }
      ]
    },
    {
      "cell_type": "code",
      "source": [
        "print(name.replace(\"i\",\"y\"))"
      ],
      "metadata": {
        "colab": {
          "base_uri": "https://localhost:8080/"
        },
        "id": "hHp_X39xX3PN",
        "outputId": "cfc40b1b-a5e9-4c3f-f9d3-5378a1cfa32c"
      },
      "execution_count": null,
      "outputs": [
        {
          "output_type": "stream",
          "name": "stdout",
          "text": [
            "physycs wallah skylls\n"
          ]
        }
      ]
    },
    {
      "cell_type": "code",
      "source": [
        "print(name.count(\"y\"))"
      ],
      "metadata": {
        "colab": {
          "base_uri": "https://localhost:8080/"
        },
        "id": "F0rrjEqsX3S5",
        "outputId": "ab868ea0-1091-4435-e732-bbf14575d477"
      },
      "execution_count": null,
      "outputs": [
        {
          "output_type": "stream",
          "name": "stdout",
          "text": [
            "1\n"
          ]
        }
      ]
    },
    {
      "cell_type": "code",
      "source": [
        "s = \"hello world\"\n",
        "\n",
        "print(s[2:5])\n",
        "print(s.replace(\"hello\",\"hii\"))\n",
        "print(s.startswith(\"hello\"))\n",
        "print(s.startswith(\"hii\"))\n",
        "print(s.endswith(\"world\"))\n",
        "print(s.index(\"o\"))\n",
        "print(s.index(\"lo w\"))"
      ],
      "metadata": {
        "colab": {
          "base_uri": "https://localhost:8080/"
        },
        "id": "wZTCfI_eX3Vn",
        "outputId": "c6b9e147-d5ef-4790-d632-7dcfd7b2a1de"
      },
      "execution_count": null,
      "outputs": [
        {
          "output_type": "stream",
          "name": "stdout",
          "text": [
            "llo\n",
            "hii world\n",
            "True\n",
            "False\n",
            "True\n",
            "4\n",
            "3\n"
          ]
        }
      ]
    },
    {
      "cell_type": "code",
      "source": [
        "list = ['p','o','o','n','a','m']\n",
        "s = \"\".join(list)\n",
        "print(s)"
      ],
      "metadata": {
        "colab": {
          "base_uri": "https://localhost:8080/"
        },
        "id": "9GTyLKYTX3X7",
        "outputId": "a2e09de9-7890-4ccc-f408-d009dbf60e76"
      },
      "execution_count": null,
      "outputs": [
        {
          "output_type": "stream",
          "name": "stdout",
          "text": [
            "poonam\n"
          ]
        }
      ]
    },
    {
      "cell_type": "code",
      "source": [
        "list = ['p','o','o','n','a','m']\n",
        "s = \" hello \".join(list)\n",
        "print(s)"
      ],
      "metadata": {
        "colab": {
          "base_uri": "https://localhost:8080/"
        },
        "id": "rvZg047_X3at",
        "outputId": "b080433e-8c3c-4199-d166-ab111d13d797"
      },
      "execution_count": null,
      "outputs": [
        {
          "output_type": "stream",
          "name": "stdout",
          "text": [
            "p hello o hello o hello n hello a hello m\n"
          ]
        }
      ]
    },
    {
      "cell_type": "code",
      "source": [
        "# Runnig sum of 1D array\n",
        "def runningSum(nums):\n",
        "  n = len(nums)\n",
        "\n",
        "  ans = []\n",
        "  ans.append(nums[0])\n",
        "\n",
        "  for i in range(1,n):\n",
        "    x = ans[i-1]+nums[i]\n",
        "    ans.append(x)\n",
        "\n",
        "  return ans\n",
        "\n",
        "list = [1,2,3,4,5,6,9]\n",
        "s = runningSum(list)\n",
        "print(s)"
      ],
      "metadata": {
        "id": "NpivH-oBX3dG",
        "colab": {
          "base_uri": "https://localhost:8080/"
        },
        "outputId": "8a06131e-eb50-4773-e950-781086f80a68"
      },
      "execution_count": 46,
      "outputs": [
        {
          "output_type": "stream",
          "name": "stdout",
          "text": [
            "[1, 3, 6, 10, 15, 21, 30]\n"
          ]
        }
      ]
    },
    {
      "cell_type": "code",
      "source": [
        "# Remove duplicates from sorted array\n",
        "def removeDuplicates(nums):\n",
        "  n = len(nums)\n",
        "\n",
        "  start = 0\n",
        "  for i in range(1,n):\n",
        "    if nums[i]!=nums[start]:\n",
        "     start +=1\n",
        "     nums[start] = nums[i]\n",
        "\n",
        "  return start +1"
      ],
      "metadata": {
        "id": "VGvHz-4bX3hP"
      },
      "execution_count": 50,
      "outputs": []
    },
    {
      "cell_type": "code",
      "source": [
        "# Remove duplicates from sorted array-II\n",
        "def removeDuplicates(nums):\n",
        "  n = len(nums)\n",
        "\n",
        "  if n <=2:\n",
        "    return n\n",
        "\n",
        "  start = 1\n",
        "  for i in range(2,n):\n",
        "    if nums[i]!=nums[start -1]:\n",
        "      start+=1\n",
        "      nums[start] = nums[i]\n",
        "  return start+1"
      ],
      "metadata": {
        "id": "2yj9AdgrX3jM"
      },
      "execution_count": 52,
      "outputs": []
    },
    {
      "cell_type": "code",
      "source": [
        "# sort array by parity.\n",
        "def sortArrayParity(nums):\n",
        "  n = len(nums)\n",
        "\n",
        "  start = 0\n",
        "  for i in range(n):\n",
        "    if nums[i]%2==0:\n",
        "      # swapping\n",
        "      temp = nums[i]\n",
        "      nums[i] = nums[start]\n",
        "      nums[start] = temp\n",
        "      start+=1\n",
        "  return nums\n"
      ],
      "metadata": {
        "id": "xm8d4QZYX3mU"
      },
      "execution_count": 53,
      "outputs": []
    },
    {
      "cell_type": "code",
      "source": [
        "# kadanis algorithm\n",
        "def maxSubArray(nums):\n",
        "  curr_sum = 0\n",
        "  max_sum = nums[0]\n",
        "\n",
        "  for i in range(len(nums)):\n",
        "    curr_sum +=nums[i]\n",
        "    if curr_sum>max_sum:\n",
        "      max_sum = curr_sum\n",
        "    if curr_sum < 0:\n",
        "      curr_sum = 0\n",
        "\n",
        "  return max_sum\n"
      ],
      "metadata": {
        "id": "zBve6Ti4X3pg"
      },
      "execution_count": 54,
      "outputs": []
    },
    {
      "cell_type": "code",
      "source": [
        "# Best time to sell ans buy the stock.\n",
        "def maxProfit(prices):\n",
        "  min_price = prices[0]\n",
        "  profit = 0\n",
        "\n",
        "  for i in range(1,len(prices)):\n",
        "    curr_profit = prices[i] - min_price\n",
        "    if curr_profit >profit:\n",
        "      profit = curr_profit\n",
        "    min_price = min(min_price,prices[i])\n",
        "  return profit\n"
      ],
      "metadata": {
        "id": "Rf-F3lPJHL5B"
      },
      "execution_count": 55,
      "outputs": []
    },
    {
      "cell_type": "code",
      "source": [
        "# Best time to sell ans buy the stock- II.\n",
        "def maxProfit(prices):\n",
        "  profit = 0\n",
        "  n = len(prices)\n",
        "\n",
        "  for i in range(n-1):\n",
        "    if prices[i+1]>prices[i]:\n",
        "      profit += (prices[i+1]-prices[i])\n",
        "\n",
        "    return profit\n"
      ],
      "metadata": {
        "id": "6X58kK1lHMCT"
      },
      "execution_count": 56,
      "outputs": []
    },
    {
      "cell_type": "code",
      "source": [
        "# Richest Customer Wealth\n",
        "def maximumWealth(accounts):\n",
        "  ans = 0\n",
        "  for account in accounts:\n",
        "    ans = max(ans,sum(account))\n",
        "  return ans"
      ],
      "metadata": {
        "id": "IF0dHcRGHMI7"
      },
      "execution_count": 58,
      "outputs": []
    },
    {
      "cell_type": "code",
      "source": [
        "# Spiral Matrix\n",
        "def spiralOrder(matrix):\n",
        "    n = len(matrix)\n",
        "    m = len(matrix[0])\n",
        "\n",
        "    total = n*m\n",
        "    ans = []\n",
        "    c = 0\n",
        "\n",
        "    colstart = 0\n",
        "    rowstart = 0\n",
        "    colend = n-1\n",
        "    rowend = n-1\n",
        "\n",
        "    while c <total:\n",
        "        for i in range(colstart,colend+1):\n",
        "            ans.append(matrix[rowstart[i]])\n",
        "            c+=1\n",
        "        rowstart+=1\n",
        "\n",
        "\n",
        "        if c == total:\n",
        "            break\n",
        "\n",
        "        for i in range(rowstart,rowend+1):\n",
        "            ans.append(matrix[i][colend])\n",
        "            c+=1\n",
        "        colend-=1\n",
        "\n",
        "        if c == total:\n",
        "            break\n",
        "\n",
        "        for i in range(colend,colstart-1,-1):\n",
        "            ans.append(matrix[rowend][i])\n",
        "            c+=1\n",
        "        rowend-=1\n",
        "\n",
        "        for i in range(rowend,rowstart-1,-1):\n",
        "            ans.append(matrix[i][colstart])\n",
        "            c+=1\n",
        "            colstart+=1\n",
        "\n",
        "    return ans"
      ],
      "metadata": {
        "id": "GFyXZrMKHMPR"
      },
      "execution_count": 60,
      "outputs": []
    },
    {
      "cell_type": "code",
      "source": [
        "# Defanging an IP address.\n",
        "def defangIPaddr(address):\n",
        "  ans = \"\"\n",
        "  for i in address:\n",
        "    if i !=\".\":\n",
        "      ans +=i\n",
        "    else:\n",
        "      ans +=\"[.]\"\n",
        "  return ans\n"
      ],
      "metadata": {
        "id": "f6rUXKmUHNUN"
      },
      "execution_count": 62,
      "outputs": []
    },
    {
      "cell_type": "code",
      "source": [
        "# valid Palindrome\n",
        "def isAlphanumeric(s):\n",
        "  x = ord(s)\n",
        "  if 97<=x<=122 or 65<=x<=90 or 48<=x<=57:\n",
        "    return True\n",
        "  else:\n",
        "    return False\n",
        "def isPalindrome(s):\n",
        "  s = s.lower()\n",
        "\n",
        "  i = 0\n",
        "  j = len(s)-1\n",
        "\n",
        "  while i <j:\n",
        "    if not isAlphanumeric(s[i]):\n",
        "      i+=1\n",
        "    elif not isAlphanumeric(s[j]):\n",
        "      j-=1\n",
        "    elif s[i]==s[j]:\n",
        "      i+=1\n",
        "      j-=1\n",
        "    else:\n",
        "      return False\n",
        "  return True"
      ],
      "metadata": {
        "id": "DTaKxNyKHNd3"
      },
      "execution_count": 65,
      "outputs": []
    },
    {
      "cell_type": "code",
      "source": [
        "# Reverse String.\n",
        "def reverseString(s):\n",
        "  i = 0\n",
        "  j = len(s)-1\n",
        "\n",
        "  while i<j:\n",
        "    s[i],s[j] = s[j],s[i]\n",
        "    i+=1\n",
        "    j-=1\n",
        "  return s"
      ],
      "metadata": {
        "id": "xyHd7TndX3rl"
      },
      "execution_count": 66,
      "outputs": []
    },
    {
      "cell_type": "code",
      "source": [
        "#  Reverse words in a string.\n",
        "def reversewords(s):\n",
        "  s = s.strip()\n",
        "  s = s.split()\n",
        "\n",
        "  s.reverse()\n",
        "\n",
        "  return \" \".join(s)\n"
      ],
      "metadata": {
        "id": "C-8Gqop6Wt8w"
      },
      "execution_count": 69,
      "outputs": []
    },
    {
      "cell_type": "code",
      "source": [
        "# length of last word\n",
        "def lengthoflastword(s):\n",
        "  s = s.strip()\n",
        "\n",
        "  i = -1\n",
        "  while i >=(-1*n) and s[i]!=\" \":\n",
        "    i -=1\n",
        "  i+=1\n",
        "  i*=-1\n",
        "\n",
        "  return i"
      ],
      "metadata": {
        "id": "Oe8nP-rGWdwM"
      },
      "execution_count": 70,
      "outputs": []
    }
  ]
}